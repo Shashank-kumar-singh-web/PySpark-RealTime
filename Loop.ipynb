{
 "cells": [
  {
   "cell_type": "code",
   "execution_count": 0,
   "metadata": {
    "application/vnd.databricks.v1+cell": {
     "cellMetadata": {
      "byteLimit": 2048000,
      "rowLimit": 10000
     },
     "inputWidgets": {},
     "nuid": "b0ba9a03-c0e2-419b-8113-35d92a8fb584",
     "showTitle": false,
     "tableResultSettingsMap": {},
     "title": ""
    }
   },
   "outputs": [],
   "source": [
    "from pyspark.sql.functions import *"
   ]
  },
  {
   "cell_type": "code",
   "execution_count": 0,
   "metadata": {
    "application/vnd.databricks.v1+cell": {
     "cellMetadata": {
      "byteLimit": 2048000,
      "rowLimit": 10000
     },
     "inputWidgets": {},
     "nuid": "f390aec5-698e-4c21-a2b9-3532de40e9c3",
     "showTitle": false,
     "tableResultSettingsMap": {},
     "title": ""
    }
   },
   "outputs": [],
   "source": [
    "var_unit_sold = [1,2,3]"
   ]
  },
  {
   "cell_type": "code",
   "execution_count": 0,
   "metadata": {
    "application/vnd.databricks.v1+cell": {
     "cellMetadata": {
      "byteLimit": 2048000,
      "rowLimit": 10000
     },
     "inputWidgets": {},
     "nuid": "c48e2647-ccb1-43b8-8643-4e3027225967",
     "showTitle": false,
     "tableResultSettingsMap": {},
     "title": ""
    }
   },
   "outputs": [],
   "source": []
  },
  {
   "cell_type": "code",
   "execution_count": 0,
   "metadata": {
    "application/vnd.databricks.v1+cell": {
     "cellMetadata": {
      "byteLimit": 2048000,
      "rowLimit": 10000
     },
     "inputWidgets": {},
     "nuid": "dc4bd2d9-3686-4e2c-8e0a-25b0e4431071",
     "showTitle": false,
     "tableResultSettingsMap": {},
     "title": ""
    }
   },
   "outputs": [],
   "source": [
    "for i in var_unit_sold:\n",
    "    df = spark.read.format('csv')\\\n",
    "        .option(\"Header\",True)\\\n",
    "        .option(\"inferschema\",True)\\\n",
    "            .load('/FileStore/RealTime/rawsource/sales_data_first.csv')\\\n",
    "                .filter(col('Units_Sold')==i)\n",
    "\n",
    "\n",
    "    df.write.format('csv')\\\n",
    "        .mode('overwrite')\\\n",
    "            .option(\"header\",True)\\\n",
    "            .option('Path',f'/FileStore/RealTime/LoopData/Units_Sold ={i}')\\\n",
    "                .save()\n",
    "    "
   ]
  },
  {
   "cell_type": "code",
   "execution_count": 0,
   "metadata": {
    "application/vnd.databricks.v1+cell": {
     "cellMetadata": {
      "byteLimit": 2048000,
      "rowLimit": 10000
     },
     "inputWidgets": {},
     "nuid": "d146bbe8-e91b-4004-9a69-ab01de1ad945",
     "showTitle": false,
     "tableResultSettingsMap": {},
     "title": ""
    }
   },
   "outputs": [
    {
     "output_type": "display_data",
     "data": {
      "text/html": [
       "<style scoped>\n",
       "  .table-result-container {\n",
       "    max-height: 300px;\n",
       "    overflow: auto;\n",
       "  }\n",
       "  table, th, td {\n",
       "    border: 1px solid black;\n",
       "    border-collapse: collapse;\n",
       "  }\n",
       "  th, td {\n",
       "    padding: 5px;\n",
       "  }\n",
       "  th {\n",
       "    text-align: left;\n",
       "  }\n",
       "</style><div class='table-result-container'><table class='table-result'><thead style='background-color: white'><tr><th>Branch_ID</th><th>Dealer_ID</th><th>Model_ID</th><th>Revenue</th><th>Units_Sold</th><th>Date_ID</th><th>Month</th><th>Year</th><th>BranchName</th><th>DealerName</th><th>Product_Name</th><th>Date</th></tr></thead><tbody><tr><td>BR0031</td><td>DLR0071</td><td>Vol-M258</td><td>10067596</td><td>2</td><td>DT01227</td><td>5</td><td>2020</td><td>Alfa Romeo Motors</td><td>Ginetta Motors</td><td>Volkswagen</td><td>5/11/2020 0:00</td></tr><tr><td>BR0041</td><td>DLR0072</td><td>Vol-M259</td><td>13055810</td><td>2</td><td>DT01228</td><td>5</td><td>2020</td><td>Alpine Motors</td><td>Glas Motors</td><td>Volkswagen</td><td>5/12/2020 0:00</td></tr><tr><td>BR0121</td><td>DLR0080</td><td>Nis-M267</td><td>5421046</td><td>2</td><td>DT01236</td><td>5</td><td>2020</td><td>Aston Martin Motors</td><td>Hindustan Motors</td><td>Nissan</td><td>5/20/2020 0:00</td></tr><tr><td>BR0126</td><td>DLR0170</td><td>Ren-M130</td><td>8445560</td><td>2</td><td>DT01238</td><td>5</td><td>2020</td><td>Aixam-Mega (including Arola) Motors</td><td>Saleen Motors</td><td>Renault</td><td>5/22/2020 0:00</td></tr><tr><td>BR0141</td><td>DLR0082</td><td>Nis-M269</td><td>17522592</td><td>2</td><td>DT01238</td><td>5</td><td>2020</td><td>Autobianchi Motors</td><td>Honda Motors</td><td>Nissan</td><td>5/22/2020 0:00</td></tr><tr><td>BR0201</td><td>DLR0088</td><td>Mit-M275</td><td>847952</td><td>2</td><td>DT01244</td><td>5</td><td>2020</td><td>Bond Motors</td><td>IFA (including Trabant, Wartburg, Barkas) Motors</td><td>Mitsubishi</td><td>5/28/2020 0:00</td></tr><tr><td>BR0546</td><td>DLR0177</td><td>Mar-M137</td><td>11543998</td><td>2</td><td>DT01245</td><td>5</td><td>2020</td><td>ARO Motors</td><td>Seat Motors</td><td>Maruti Suzuki</td><td>5/29/2020 0:00</td></tr><tr><td>BR0666</td><td>DLR0179</td><td>Mar-M139</td><td>16170344</td><td>2</td><td>DT01247</td><td>5</td><td>2020</td><td>Asia Motors Motors</td><td>Simca Motors</td><td>Maruti Suzuki</td><td>5/31/2020 0:00</td></tr><tr><td>BR1125</td><td>DLR0033</td><td>Nis-M270</td><td>5501066</td><td>2</td><td>DT01101</td><td>1</td><td>2020</td><td>LuAZ Motors</td><td>Chevrolet Motors</td><td>Nissan</td><td>1/6/2020 0:00</td></tr><tr><td>BR1135</td><td>DLR0034</td><td>Sko-M271</td><td>15299630</td><td>2</td><td>DT01102</td><td>1</td><td>2020</td><td>Lynx Motors</td><td>Chevrolet India Motors</td><td>Skoda</td><td>1/7/2020 0:00</td></tr><tr><td>BR1155</td><td>DLR0036</td><td>Sko-M273</td><td>6991308</td><td>2</td><td>DT01104</td><td>1</td><td>2020</td><td>Marcos Motors</td><td>Chrysler Europe Motors</td><td>Skoda</td><td>1/9/2020 0:00</td></tr><tr><td>BR1195</td><td>DLR0040</td><td>Mit-M277</td><td>12731434</td><td>2</td><td>DT01108</td><td>1</td><td>2020</td><td>Mastretta Motors</td><td>Daewoo, Saehan, Chevrolet Korea Motors</td><td>Mitsubishi</td><td>1/13/2020 0:00</td></tr><tr><td>BR1210</td><td>DLR0208</td><td>Ren-M128</td><td>9250976</td><td>2</td><td>DT01097</td><td>1</td><td>2020</td><td>Matra (including Deutsch-Bonnet, René Bonnet) Motors</td><td>Wiesmann Motors</td><td>Renault</td><td>1/2/2020 0:00</td></tr><tr><td>BR1230</td><td>DLR0210</td><td>Ren-M130</td><td>16850778</td><td>2</td><td>DT01099</td><td>1</td><td>2020</td><td>Mazzanti Motors</td><td>ZAZ Motors</td><td>Renault</td><td>1/4/2020 0:00</td></tr><tr><td>BR1235</td><td>DLR0044</td><td>BMW-M4</td><td>7034814</td><td>2</td><td>DT01112</td><td>1</td><td>2020</td><td>McLaren Motors</td><td>null</td><td>BMW</td><td>1/17/2020 0:00</td></tr><tr><td>BR1255</td><td>DLR0046</td><td>Mer-M6</td><td>4815214</td><td>2</td><td>DT01114</td><td>1</td><td>2020</td><td>Mercury Motors</td><td>DeLorean Motors</td><td>Mercedes-Benz</td><td>1/19/2020 0:00</td></tr><tr><td>BR1295</td><td>DLR0050</td><td>Jee-M10</td><td>14558850</td><td>2</td><td>DT01118</td><td>1</td><td>2020</td><td>Micro Motors</td><td>Donkervoort Motors</td><td>Jeep</td><td>1/23/2020 0:00</td></tr><tr><td>BR1320</td><td>DLR0219</td><td>Mar-M139</td><td>15720604</td><td>2</td><td>DT01108</td><td>1</td><td>2020</td><td>Mitsubishi Motors</td><td>MG  Motors</td><td>Maruti Suzuki</td><td>1/13/2020 0:00</td></tr><tr><td>BR1325</td><td>DLR0053</td><td>Jee-M13</td><td>11820578</td><td>2</td><td>DT01121</td><td>1</td><td>2020</td><td>Monica Motors</td><td>Eicher Polaris Motors</td><td>Jeep</td><td>1/26/2020 0:00</td></tr><tr><td>BR1330</td><td>DLR0220</td><td>Mar-M140</td><td>4505054</td><td>2</td><td>DT01109</td><td>1</td><td>2020</td><td>Monica Motors</td><td>Morris  Motors</td><td>Maruti Suzuki</td><td>1/14/2020 0:00</td></tr><tr><td>BR1360</td><td>DLR0223</td><td>Mar-M143</td><td>10719476</td><td>2</td><td>DT01112</td><td>1</td><td>2020</td><td>Moskwitch Motors</td><td>Wolseley  Motors</td><td>Maruti Suzuki</td><td>1/17/2020 0:00</td></tr><tr><td>BR1390</td><td>DLR0226</td><td>Mar-M146</td><td>18375622</td><td>2</td><td>DT01115</td><td>1</td><td>2020</td><td>Nissan Motors</td><td>Das Motors</td><td>Maruti Suzuki</td><td>1/20/2020 0:00</td></tr><tr><td>BR1395</td><td>DLR0060</td><td>For-M20</td><td>3826662</td><td>2</td><td>DT01128</td><td>2</td><td>2020</td><td>Nissan India Motors</td><td>Fisker, Karma Motors</td><td>Ford</td><td>2/2/2020 0:00</td></tr><tr><td>BR1445</td><td>DLR0065</td><td>For-M25</td><td>17788070</td><td>2</td><td>DT01133</td><td>2</td><td>2020</td><td>Opel Motors</td><td>Ford India Motors</td><td>Ford</td><td>2/7/2020 0:00</td></tr><tr><td>BR1455</td><td>DLR0066</td><td>For-M26</td><td>5109932</td><td>2</td><td>DT01134</td><td>2</td><td>2020</td><td>Packard Motors</td><td>Freightliner Motors</td><td>Ford</td><td>2/8/2020 0:00</td></tr><tr><td>BR1460</td><td>DLR0233</td><td>Hyu-M153</td><td>5377184</td><td>2</td><td>DT01122</td><td>1</td><td>2020</td><td>Packard Motors</td><td>Blankinship Motor Company Building</td><td>Hyundai</td><td>1/27/2020 0:00</td></tr><tr><td>BR1465</td><td>DLR0067</td><td>Lin-M27</td><td>756130</td><td>2</td><td>DT01135</td><td>2</td><td>2020</td><td>Pagani Motors</td><td>FSO Motors</td><td>Lincoln</td><td>2/9/2020 0:00</td></tr><tr><td>BR1475</td><td>DLR0068</td><td>Lin-M28</td><td>14722240</td><td>2</td><td>DT01136</td><td>2</td><td>2020</td><td>Panhard Motors</td><td>GAZ Motors</td><td>Lincoln</td><td>2/10/2020 0:00</td></tr><tr><td>BR1480</td><td>DLR0235</td><td>Hyu-M155</td><td>16603584</td><td>2</td><td>DT01124</td><td>1</td><td>2020</td><td>Panhard Motors</td><td>Buick Automobile Company Building</td><td>Hyundai</td><td>1/29/2020 0:00</td></tr><tr><td>BR1545</td><td>DLR0075</td><td>Cad-M35</td><td>11312878</td><td>2</td><td>DT01143</td><td>2</td><td>2020</td><td>Piaggio Motors</td><td>Gumpert Motors</td><td>Cadillac</td><td>2/17/2020 0:00</td></tr><tr><td>BR1570</td><td>DLR0244</td><td>Hyu-M164</td><td>12224948</td><td>2</td><td>DT01133</td><td>2</td><td>2020</td><td>Polestar Motors</td><td>Hupmobile Building</td><td>Hyundai</td><td>2/7/2020 0:00</td></tr></tbody></table></div>"
      ]
     },
     "metadata": {
      "application/vnd.databricks.v1+output": {
       "addedWidgets": {},
       "aggData": [],
       "aggError": "",
       "aggOverflow": false,
       "aggSchema": [],
       "aggSeriesLimitReached": false,
       "aggType": "",
       "arguments": {},
       "columnCustomDisplayInfos": {},
       "data": [
        [
         "BR0031",
         "DLR0071",
         "Vol-M258",
         10067596,
         2,
         "DT01227",
         5,
         2020,
         "Alfa Romeo Motors",
         "Ginetta Motors",
         "Volkswagen",
         "5/11/2020 0:00"
        ],
        [
         "BR0041",
         "DLR0072",
         "Vol-M259",
         13055810,
         2,
         "DT01228",
         5,
         2020,
         "Alpine Motors",
         "Glas Motors",
         "Volkswagen",
         "5/12/2020 0:00"
        ],
        [
         "BR0121",
         "DLR0080",
         "Nis-M267",
         5421046,
         2,
         "DT01236",
         5,
         2020,
         "Aston Martin Motors",
         "Hindustan Motors",
         "Nissan",
         "5/20/2020 0:00"
        ],
        [
         "BR0126",
         "DLR0170",
         "Ren-M130",
         8445560,
         2,
         "DT01238",
         5,
         2020,
         "Aixam-Mega (including Arola) Motors",
         "Saleen Motors",
         "Renault",
         "5/22/2020 0:00"
        ],
        [
         "BR0141",
         "DLR0082",
         "Nis-M269",
         17522592,
         2,
         "DT01238",
         5,
         2020,
         "Autobianchi Motors",
         "Honda Motors",
         "Nissan",
         "5/22/2020 0:00"
        ],
        [
         "BR0201",
         "DLR0088",
         "Mit-M275",
         847952,
         2,
         "DT01244",
         5,
         2020,
         "Bond Motors",
         "IFA (including Trabant, Wartburg, Barkas) Motors",
         "Mitsubishi",
         "5/28/2020 0:00"
        ],
        [
         "BR0546",
         "DLR0177",
         "Mar-M137",
         11543998,
         2,
         "DT01245",
         5,
         2020,
         "ARO Motors",
         "Seat Motors",
         "Maruti Suzuki",
         "5/29/2020 0:00"
        ],
        [
         "BR0666",
         "DLR0179",
         "Mar-M139",
         16170344,
         2,
         "DT01247",
         5,
         2020,
         "Asia Motors Motors",
         "Simca Motors",
         "Maruti Suzuki",
         "5/31/2020 0:00"
        ],
        [
         "BR1125",
         "DLR0033",
         "Nis-M270",
         5501066,
         2,
         "DT01101",
         1,
         2020,
         "LuAZ Motors",
         "Chevrolet Motors",
         "Nissan",
         "1/6/2020 0:00"
        ],
        [
         "BR1135",
         "DLR0034",
         "Sko-M271",
         15299630,
         2,
         "DT01102",
         1,
         2020,
         "Lynx Motors",
         "Chevrolet India Motors",
         "Skoda",
         "1/7/2020 0:00"
        ],
        [
         "BR1155",
         "DLR0036",
         "Sko-M273",
         6991308,
         2,
         "DT01104",
         1,
         2020,
         "Marcos Motors",
         "Chrysler Europe Motors",
         "Skoda",
         "1/9/2020 0:00"
        ],
        [
         "BR1195",
         "DLR0040",
         "Mit-M277",
         12731434,
         2,
         "DT01108",
         1,
         2020,
         "Mastretta Motors",
         "Daewoo, Saehan, Chevrolet Korea Motors",
         "Mitsubishi",
         "1/13/2020 0:00"
        ],
        [
         "BR1210",
         "DLR0208",
         "Ren-M128",
         9250976,
         2,
         "DT01097",
         1,
         2020,
         "Matra (including Deutsch-Bonnet, René Bonnet) Motors",
         "Wiesmann Motors",
         "Renault",
         "1/2/2020 0:00"
        ],
        [
         "BR1230",
         "DLR0210",
         "Ren-M130",
         16850778,
         2,
         "DT01099",
         1,
         2020,
         "Mazzanti Motors",
         "ZAZ Motors",
         "Renault",
         "1/4/2020 0:00"
        ],
        [
         "BR1235",
         "DLR0044",
         "BMW-M4",
         7034814,
         2,
         "DT01112",
         1,
         2020,
         "McLaren Motors",
         null,
         "BMW",
         "1/17/2020 0:00"
        ],
        [
         "BR1255",
         "DLR0046",
         "Mer-M6",
         4815214,
         2,
         "DT01114",
         1,
         2020,
         "Mercury Motors",
         "DeLorean Motors",
         "Mercedes-Benz",
         "1/19/2020 0:00"
        ],
        [
         "BR1295",
         "DLR0050",
         "Jee-M10",
         14558850,
         2,
         "DT01118",
         1,
         2020,
         "Micro Motors",
         "Donkervoort Motors",
         "Jeep",
         "1/23/2020 0:00"
        ],
        [
         "BR1320",
         "DLR0219",
         "Mar-M139",
         15720604,
         2,
         "DT01108",
         1,
         2020,
         "Mitsubishi Motors",
         "MG  Motors",
         "Maruti Suzuki",
         "1/13/2020 0:00"
        ],
        [
         "BR1325",
         "DLR0053",
         "Jee-M13",
         11820578,
         2,
         "DT01121",
         1,
         2020,
         "Monica Motors",
         "Eicher Polaris Motors",
         "Jeep",
         "1/26/2020 0:00"
        ],
        [
         "BR1330",
         "DLR0220",
         "Mar-M140",
         4505054,
         2,
         "DT01109",
         1,
         2020,
         "Monica Motors",
         "Morris  Motors",
         "Maruti Suzuki",
         "1/14/2020 0:00"
        ],
        [
         "BR1360",
         "DLR0223",
         "Mar-M143",
         10719476,
         2,
         "DT01112",
         1,
         2020,
         "Moskwitch Motors",
         "Wolseley  Motors",
         "Maruti Suzuki",
         "1/17/2020 0:00"
        ],
        [
         "BR1390",
         "DLR0226",
         "Mar-M146",
         18375622,
         2,
         "DT01115",
         1,
         2020,
         "Nissan Motors",
         "Das Motors",
         "Maruti Suzuki",
         "1/20/2020 0:00"
        ],
        [
         "BR1395",
         "DLR0060",
         "For-M20",
         3826662,
         2,
         "DT01128",
         2,
         2020,
         "Nissan India Motors",
         "Fisker, Karma Motors",
         "Ford",
         "2/2/2020 0:00"
        ],
        [
         "BR1445",
         "DLR0065",
         "For-M25",
         17788070,
         2,
         "DT01133",
         2,
         2020,
         "Opel Motors",
         "Ford India Motors",
         "Ford",
         "2/7/2020 0:00"
        ],
        [
         "BR1455",
         "DLR0066",
         "For-M26",
         5109932,
         2,
         "DT01134",
         2,
         2020,
         "Packard Motors",
         "Freightliner Motors",
         "Ford",
         "2/8/2020 0:00"
        ],
        [
         "BR1460",
         "DLR0233",
         "Hyu-M153",
         5377184,
         2,
         "DT01122",
         1,
         2020,
         "Packard Motors",
         "Blankinship Motor Company Building",
         "Hyundai",
         "1/27/2020 0:00"
        ],
        [
         "BR1465",
         "DLR0067",
         "Lin-M27",
         756130,
         2,
         "DT01135",
         2,
         2020,
         "Pagani Motors",
         "FSO Motors",
         "Lincoln",
         "2/9/2020 0:00"
        ],
        [
         "BR1475",
         "DLR0068",
         "Lin-M28",
         14722240,
         2,
         "DT01136",
         2,
         2020,
         "Panhard Motors",
         "GAZ Motors",
         "Lincoln",
         "2/10/2020 0:00"
        ],
        [
         "BR1480",
         "DLR0235",
         "Hyu-M155",
         16603584,
         2,
         "DT01124",
         1,
         2020,
         "Panhard Motors",
         "Buick Automobile Company Building",
         "Hyundai",
         "1/29/2020 0:00"
        ],
        [
         "BR1545",
         "DLR0075",
         "Cad-M35",
         11312878,
         2,
         "DT01143",
         2,
         2020,
         "Piaggio Motors",
         "Gumpert Motors",
         "Cadillac",
         "2/17/2020 0:00"
        ],
        [
         "BR1570",
         "DLR0244",
         "Hyu-M164",
         12224948,
         2,
         "DT01133",
         2,
         2020,
         "Polestar Motors",
         "Hupmobile Building",
         "Hyundai",
         "2/7/2020 0:00"
        ]
       ],
       "datasetInfos": [],
       "dbfsResultPath": null,
       "isJsonSchema": true,
       "metadata": {},
       "overflow": false,
       "plotOptions": {
        "customPlotOptions": {},
        "displayType": "table",
        "pivotAggregation": null,
        "pivotColumns": null,
        "xColumns": null,
        "yColumns": null
       },
       "removedWidgets": [],
       "schema": [
        {
         "metadata": "{}",
         "name": "Branch_ID",
         "type": "\"string\""
        },
        {
         "metadata": "{}",
         "name": "Dealer_ID",
         "type": "\"string\""
        },
        {
         "metadata": "{}",
         "name": "Model_ID",
         "type": "\"string\""
        },
        {
         "metadata": "{}",
         "name": "Revenue",
         "type": "\"integer\""
        },
        {
         "metadata": "{}",
         "name": "Units_Sold",
         "type": "\"integer\""
        },
        {
         "metadata": "{}",
         "name": "Date_ID",
         "type": "\"string\""
        },
        {
         "metadata": "{}",
         "name": "Month",
         "type": "\"integer\""
        },
        {
         "metadata": "{}",
         "name": "Year",
         "type": "\"integer\""
        },
        {
         "metadata": "{}",
         "name": "BranchName",
         "type": "\"string\""
        },
        {
         "metadata": "{}",
         "name": "DealerName",
         "type": "\"string\""
        },
        {
         "metadata": "{}",
         "name": "Product_Name",
         "type": "\"string\""
        },
        {
         "metadata": "{}",
         "name": "Date",
         "type": "\"string\""
        }
       ],
       "type": "table"
      }
     },
     "output_type": "display_data"
    }
   ],
   "source": [
    "df= spark.read.format('csv')\\\n",
    "    .option(\"header\",True)\\\n",
    "        .option(\"inferschema\",True)\\\n",
    "            .load('/FileStore/RealTime/LoopData/Units_Sold =2')\n",
    "\n",
    "df.display()"
   ]
  },
  {
   "cell_type": "code",
   "execution_count": 0,
   "metadata": {
    "application/vnd.databricks.v1+cell": {
     "cellMetadata": {},
     "inputWidgets": {},
     "nuid": "c83d3eb8-5d7e-4d6d-994b-b93ac632ae0f",
     "showTitle": false,
     "tableResultSettingsMap": {},
     "title": ""
    }
   },
   "outputs": [],
   "source": []
  }
 ],
 "metadata": {
  "application/vnd.databricks.v1+notebook": {
   "computePreferences": null,
   "dashboards": [],
   "environmentMetadata": {
    "base_environment": "",
    "environment_version": "1"
   },
   "inputWidgetPreferences": null,
   "language": "python",
   "notebookMetadata": {
    "pythonIndentUnit": 4
   },
   "notebookName": "Loop",
   "widgets": {}
  }
 },
 "nbformat": 4,
 "nbformat_minor": 0
}