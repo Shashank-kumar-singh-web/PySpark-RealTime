{
 "cells": [
  {
   "cell_type": "code",
   "execution_count": 0,
   "metadata": {
    "application/vnd.databricks.v1+cell": {
     "cellMetadata": {
      "byteLimit": 2048000,
      "rowLimit": 10000
     },
     "inputWidgets": {},
     "nuid": "5c0ca0ea-1059-4e17-8ed9-2924f86753fc",
     "showTitle": false,
     "tableResultSettingsMap": {},
     "title": ""
    }
   },
   "outputs": [
    {
     "output_type": "stream",
     "name": "stdout",
     "output_type": "stream",
     "text": [
      "Hey, You have an error - [PATH_NOT_FOUND] Path does not exist: dbfs:/FileStore/RealTime/rawsource/sales_data_first.csv/error.\nHello world\n"
     ]
    }
   ],
   "source": [
    "try :\n",
    "    df = spark.read.format(\"csv\")\\\n",
    "            .option(\"header\",True)\\\n",
    "            .option(\"inferSchema\",True)\\\n",
    "            .load(\"/FileStore/RealTime/rawsource/sales_data_first.csv/error\")\n",
    "\n",
    "    df.display()\n",
    "\n",
    "except Exception as e:\n",
    "    print(f\"Hey, You have an error - {e}\")\n",
    "\n",
    "\n",
    "print(\"Hello world\")"
   ]
  }
 ],
 "metadata": {
  "application/vnd.databricks.v1+notebook": {
   "computePreferences": null,
   "dashboards": [],
   "environmentMetadata": {
    "base_environment": "",
    "environment_version": "1"
   },
   "inputWidgetPreferences": null,
   "language": "python",
   "notebookMetadata": {
    "pythonIndentUnit": 4
   },
   "notebookName": "Error Handling",
   "widgets": {}
  }
 },
 "nbformat": 4,
 "nbformat_minor": 0
}