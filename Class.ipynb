{
 "cells": [
  {
   "cell_type": "code",
   "execution_count": 0,
   "metadata": {
    "application/vnd.databricks.v1+cell": {
     "cellMetadata": {
      "byteLimit": 2048000,
      "rowLimit": 10000
     },
     "inputWidgets": {},
     "nuid": "c4093d89-7852-48ef-9d27-2ad0f0d466ee",
     "showTitle": true,
     "tableResultSettingsMap": {},
     "title": "importing"
    }
   },
   "outputs": [],
   "source": [
    "from pyspark.sql.functions import * \n",
    "from pyspark.sql.types import * \n",
    "from pyspark.sql.window import Window"
   ]
  },
  {
   "cell_type": "code",
   "execution_count": 0,
   "metadata": {
    "application/vnd.databricks.v1+cell": {
     "cellMetadata": {
      "byteLimit": 2048000,
      "rowLimit": 10000
     },
     "inputWidgets": {},
     "nuid": "1a283305-7345-4fe1-bc0f-aae91fa45663",
     "showTitle": true,
     "tableResultSettingsMap": {},
     "title": "Defining a class"
    }
   },
   "outputs": [],
   "source": [
    "class WindowFunction:\n",
    "    df= spark.read.format('csv')\\\n",
    "        .option('inferschema', True)\\\n",
    "        .option('header',True)\\\n",
    "        .load('/FileStore/RealTime/rawsource/sales_data_first.csv')\n",
    "    \n",
    "    def dense_rank_func(self, newColumn, part_col, ord_col):\n",
    "        df= self.df.withColumn(newColumn, dense_rank()\\\n",
    "            .over(Window.partitionBy(part_col).orderBy(col(ord_col).desc())))\n",
    "        return df\n",
    "    def rank_func(self, newColumn, part_col, ord_col):\n",
    "        df= self.df.withColumn(newColumn, rank()\\\n",
    "            .over(Window.partitionBy(part_col).orderBy(col(ord_col).desc())))\n",
    "        return df\n",
    "    def row_number(self, newColumn, part_col, ord_col):\n",
    "        df= self.df.withColumn(newColumn, row_number()\\\n",
    "            .over(Window.partitionBy(part_col).orderBy(col(ord_col).desc())))\n",
    "        return df\n"
   ]
  },
  {
   "cell_type": "code",
   "execution_count": 0,
   "metadata": {
    "application/vnd.databricks.v1+cell": {
     "cellMetadata": {
      "byteLimit": 2048000,
      "rowLimit": 10000
     },
     "inputWidgets": {},
     "nuid": "6dd69748-8708-4255-83b8-987da86f07eb",
     "showTitle": true,
     "tableResultSettingsMap": {},
     "title": "Create Object"
    }
   },
   "outputs": [],
   "source": [
    "obj = WindowFunction()\n"
   ]
  },
  {
   "cell_type": "code",
   "execution_count": 0,
   "metadata": {
    "application/vnd.databricks.v1+cell": {
     "cellMetadata": {
      "byteLimit": 2048000,
      "rowLimit": 10000
     },
     "inputWidgets": {},
     "nuid": "7391c361-ec5d-4de0-ad3d-386361dbbe4e",
     "showTitle": true,
     "tableResultSettingsMap": {},
     "title": "Calling A function"
    }
   },
   "outputs": [],
   "source": [
    "result_dense_rank = obj.dense_rank_func('dense_rank','Month','Units_Sold')"
   ]
  },
  {
   "cell_type": "code",
   "execution_count": 0,
   "metadata": {
    "application/vnd.databricks.v1+cell": {
     "cellMetadata": {
      "byteLimit": 2048000,
      "rowLimit": 10000
     },
     "inputWidgets": {},
     "nuid": "606f787f-3253-4ae5-9b46-dd065e2095a9",
     "showTitle": true,
     "tableResultSettingsMap": {},
     "title": "Display"
    }
   },
   "outputs": [
    {
     "output_type": "display_data",
     "data": {
      "text/html": [
       "<style scoped>\n",
       "  .table-result-container {\n",
       "    max-height: 300px;\n",
       "    overflow: auto;\n",
       "  }\n",
       "  table, th, td {\n",
       "    border: 1px solid black;\n",
       "    border-collapse: collapse;\n",
       "  }\n",
       "  th, td {\n",
       "    padding: 5px;\n",
       "  }\n",
       "  th {\n",
       "    text-align: left;\n",
       "  }\n",
       "</style><div class='table-result-container'><table class='table-result'><thead style='background-color: white'><tr><th>Branch_ID</th><th>Dealer_ID</th><th>Model_ID</th><th>Revenue</th><th>Units_Sold</th><th>Date_ID</th><th>Month</th><th>Year</th><th>BranchName</th><th>DealerName</th><th>Product_Name</th><th>Date</th><th>dense_rank</th></tr></thead><tbody><tr><td>BR1105</td><td>DLR0031</td><td>Nis-M268</td><td>2349414</td><td>3</td><td>DT01099</td><td>1</td><td>2020</td><td>Lotus Motors</td><td>Caterham Motors</td><td>Nissan</td><td>1/4/2020 0:00</td><td>1</td></tr><tr><td>BR1175</td><td>DLR0038</td><td>Mit-M275</td><td>6379479</td><td>3</td><td>DT01106</td><td>1</td><td>2020</td><td>Maruti Motors</td><td>Cizeta-Moroder Motors</td><td>Mitsubishi</td><td>1/11/2020 0:00</td><td>1</td></tr><tr><td>BR1205</td><td>DLR0041</td><td>BMW-M1</td><td>20119176</td><td>3</td><td>DT01109</td><td>1</td><td>2020</td><td>Matra (including Deutsch-Bonnet, René Bonnet) Motors</td><td>DAF Motors</td><td>BMW</td><td>1/14/2020 0:00</td><td>1</td></tr><tr><td>BR1215</td><td>DLR0042</td><td>BMW-M2</td><td>12564672</td><td>3</td><td>DT01110</td><td>1</td><td>2020</td><td>Mazda Motors</td><td>Daihatsu Motors</td><td>BMW</td><td>1/15/2020 0:00</td><td>1</td></tr><tr><td>BR1270</td><td>DLR0214</td><td>Toy-M134</td><td>22982112</td><td>3</td><td>DT01103</td><td>1</td><td>2020</td><td>Merkur Motors</td><td>Horch Motors</td><td>Toyota</td><td>1/8/2020 0:00</td><td>1</td></tr></tbody></table></div>"
      ]
     },
     "metadata": {
      "application/vnd.databricks.v1+output": {
       "addedWidgets": {},
       "aggData": [],
       "aggError": "",
       "aggOverflow": false,
       "aggSchema": [],
       "aggSeriesLimitReached": false,
       "aggType": "",
       "arguments": {},
       "columnCustomDisplayInfos": {},
       "data": [
        [
         "BR1105",
         "DLR0031",
         "Nis-M268",
         2349414,
         3,
         "DT01099",
         1,
         2020,
         "Lotus Motors",
         "Caterham Motors",
         "Nissan",
         "1/4/2020 0:00",
         1
        ],
        [
         "BR1175",
         "DLR0038",
         "Mit-M275",
         6379479,
         3,
         "DT01106",
         1,
         2020,
         "Maruti Motors",
         "Cizeta-Moroder Motors",
         "Mitsubishi",
         "1/11/2020 0:00",
         1
        ],
        [
         "BR1205",
         "DLR0041",
         "BMW-M1",
         20119176,
         3,
         "DT01109",
         1,
         2020,
         "Matra (including Deutsch-Bonnet, René Bonnet) Motors",
         "DAF Motors",
         "BMW",
         "1/14/2020 0:00",
         1
        ],
        [
         "BR1215",
         "DLR0042",
         "BMW-M2",
         12564672,
         3,
         "DT01110",
         1,
         2020,
         "Mazda Motors",
         "Daihatsu Motors",
         "BMW",
         "1/15/2020 0:00",
         1
        ],
        [
         "BR1270",
         "DLR0214",
         "Toy-M134",
         22982112,
         3,
         "DT01103",
         1,
         2020,
         "Merkur Motors",
         "Horch Motors",
         "Toyota",
         "1/8/2020 0:00",
         1
        ]
       ],
       "datasetInfos": [],
       "dbfsResultPath": null,
       "isJsonSchema": true,
       "metadata": {},
       "overflow": false,
       "plotOptions": {
        "customPlotOptions": {},
        "displayType": "table",
        "pivotAggregation": null,
        "pivotColumns": null,
        "xColumns": null,
        "yColumns": null
       },
       "removedWidgets": [],
       "schema": [
        {
         "metadata": "{}",
         "name": "Branch_ID",
         "type": "\"string\""
        },
        {
         "metadata": "{}",
         "name": "Dealer_ID",
         "type": "\"string\""
        },
        {
         "metadata": "{}",
         "name": "Model_ID",
         "type": "\"string\""
        },
        {
         "metadata": "{}",
         "name": "Revenue",
         "type": "\"integer\""
        },
        {
         "metadata": "{}",
         "name": "Units_Sold",
         "type": "\"integer\""
        },
        {
         "metadata": "{}",
         "name": "Date_ID",
         "type": "\"string\""
        },
        {
         "metadata": "{}",
         "name": "Month",
         "type": "\"integer\""
        },
        {
         "metadata": "{}",
         "name": "Year",
         "type": "\"integer\""
        },
        {
         "metadata": "{}",
         "name": "BranchName",
         "type": "\"string\""
        },
        {
         "metadata": "{}",
         "name": "DealerName",
         "type": "\"string\""
        },
        {
         "metadata": "{}",
         "name": "Product_Name",
         "type": "\"string\""
        },
        {
         "metadata": "{}",
         "name": "Date",
         "type": "\"string\""
        },
        {
         "metadata": "{}",
         "name": "dense_rank",
         "type": "\"integer\""
        }
       ],
       "type": "table"
      }
     },
     "output_type": "display_data"
    }
   ],
   "source": [
    "result_dense_rank.limit(5).display()"
   ]
  },
  {
   "cell_type": "code",
   "execution_count": 0,
   "metadata": {
    "application/vnd.databricks.v1+cell": {
     "cellMetadata": {
      "byteLimit": 2048000,
      "rowLimit": 10000
     },
     "inputWidgets": {},
     "nuid": "c3f45b43-6d0c-4ba1-9a3b-64106c998a2a",
     "showTitle": true,
     "tableResultSettingsMap": {},
     "title": "Inserting new Data Frame"
    }
   },
   "outputs": [],
   "source": [
    "obj.df=result_dense_rank"
   ]
  },
  {
   "cell_type": "code",
   "execution_count": 0,
   "metadata": {
    "application/vnd.databricks.v1+cell": {
     "cellMetadata": {
      "byteLimit": 2048000,
      "rowLimit": 10000
     },
     "inputWidgets": {},
     "nuid": "cf81279d-8041-49e6-af66-b7d79cee73c7",
     "showTitle": true,
     "tableResultSettingsMap": {},
     "title": "Calling a function"
    }
   },
   "outputs": [],
   "source": [
    "result_rank = obj.rank_func('rank','Month','Units_Sold')"
   ]
  },
  {
   "cell_type": "code",
   "execution_count": 0,
   "metadata": {
    "application/vnd.databricks.v1+cell": {
     "cellMetadata": {
      "byteLimit": 2048000,
      "rowLimit": 10000
     },
     "inputWidgets": {},
     "nuid": "81243e02-7aeb-4608-9f2a-06a433acc091",
     "showTitle": true,
     "tableResultSettingsMap": {},
     "title": "Display"
    }
   },
   "outputs": [
    {
     "output_type": "display_data",
     "data": {
      "text/html": [
       "<style scoped>\n",
       "  .table-result-container {\n",
       "    max-height: 300px;\n",
       "    overflow: auto;\n",
       "  }\n",
       "  table, th, td {\n",
       "    border: 1px solid black;\n",
       "    border-collapse: collapse;\n",
       "  }\n",
       "  th, td {\n",
       "    padding: 5px;\n",
       "  }\n",
       "  th {\n",
       "    text-align: left;\n",
       "  }\n",
       "</style><div class='table-result-container'><table class='table-result'><thead style='background-color: white'><tr><th>Branch_ID</th><th>Dealer_ID</th><th>Model_ID</th><th>Revenue</th><th>Units_Sold</th><th>Date_ID</th><th>Month</th><th>Year</th><th>BranchName</th><th>DealerName</th><th>Product_Name</th><th>Date</th><th>dense_rank</th><th>rank</th></tr></thead><tbody><tr><td>BR1105</td><td>DLR0031</td><td>Nis-M268</td><td>2349414</td><td>3</td><td>DT01099</td><td>1</td><td>2020</td><td>Lotus Motors</td><td>Caterham Motors</td><td>Nissan</td><td>1/4/2020 0:00</td><td>1</td><td>1</td></tr><tr><td>BR1175</td><td>DLR0038</td><td>Mit-M275</td><td>6379479</td><td>3</td><td>DT01106</td><td>1</td><td>2020</td><td>Maruti Motors</td><td>Cizeta-Moroder Motors</td><td>Mitsubishi</td><td>1/11/2020 0:00</td><td>1</td><td>1</td></tr><tr><td>BR1205</td><td>DLR0041</td><td>BMW-M1</td><td>20119176</td><td>3</td><td>DT01109</td><td>1</td><td>2020</td><td>Matra (including Deutsch-Bonnet, René Bonnet) Motors</td><td>DAF Motors</td><td>BMW</td><td>1/14/2020 0:00</td><td>1</td><td>1</td></tr><tr><td>BR1215</td><td>DLR0042</td><td>BMW-M2</td><td>12564672</td><td>3</td><td>DT01110</td><td>1</td><td>2020</td><td>Mazda Motors</td><td>Daihatsu Motors</td><td>BMW</td><td>1/15/2020 0:00</td><td>1</td><td>1</td></tr><tr><td>BR1270</td><td>DLR0214</td><td>Toy-M134</td><td>22982112</td><td>3</td><td>DT01103</td><td>1</td><td>2020</td><td>Merkur Motors</td><td>Horch Motors</td><td>Toyota</td><td>1/8/2020 0:00</td><td>1</td><td>1</td></tr></tbody></table></div>"
      ]
     },
     "metadata": {
      "application/vnd.databricks.v1+output": {
       "addedWidgets": {},
       "aggData": [],
       "aggError": "",
       "aggOverflow": false,
       "aggSchema": [],
       "aggSeriesLimitReached": false,
       "aggType": "",
       "arguments": {},
       "columnCustomDisplayInfos": {},
       "data": [
        [
         "BR1105",
         "DLR0031",
         "Nis-M268",
         2349414,
         3,
         "DT01099",
         1,
         2020,
         "Lotus Motors",
         "Caterham Motors",
         "Nissan",
         "1/4/2020 0:00",
         1,
         1
        ],
        [
         "BR1175",
         "DLR0038",
         "Mit-M275",
         6379479,
         3,
         "DT01106",
         1,
         2020,
         "Maruti Motors",
         "Cizeta-Moroder Motors",
         "Mitsubishi",
         "1/11/2020 0:00",
         1,
         1
        ],
        [
         "BR1205",
         "DLR0041",
         "BMW-M1",
         20119176,
         3,
         "DT01109",
         1,
         2020,
         "Matra (including Deutsch-Bonnet, René Bonnet) Motors",
         "DAF Motors",
         "BMW",
         "1/14/2020 0:00",
         1,
         1
        ],
        [
         "BR1215",
         "DLR0042",
         "BMW-M2",
         12564672,
         3,
         "DT01110",
         1,
         2020,
         "Mazda Motors",
         "Daihatsu Motors",
         "BMW",
         "1/15/2020 0:00",
         1,
         1
        ],
        [
         "BR1270",
         "DLR0214",
         "Toy-M134",
         22982112,
         3,
         "DT01103",
         1,
         2020,
         "Merkur Motors",
         "Horch Motors",
         "Toyota",
         "1/8/2020 0:00",
         1,
         1
        ]
       ],
       "datasetInfos": [],
       "dbfsResultPath": null,
       "isJsonSchema": true,
       "metadata": {},
       "overflow": false,
       "plotOptions": {
        "customPlotOptions": {},
        "displayType": "table",
        "pivotAggregation": null,
        "pivotColumns": null,
        "xColumns": null,
        "yColumns": null
       },
       "removedWidgets": [],
       "schema": [
        {
         "metadata": "{}",
         "name": "Branch_ID",
         "type": "\"string\""
        },
        {
         "metadata": "{}",
         "name": "Dealer_ID",
         "type": "\"string\""
        },
        {
         "metadata": "{}",
         "name": "Model_ID",
         "type": "\"string\""
        },
        {
         "metadata": "{}",
         "name": "Revenue",
         "type": "\"integer\""
        },
        {
         "metadata": "{}",
         "name": "Units_Sold",
         "type": "\"integer\""
        },
        {
         "metadata": "{}",
         "name": "Date_ID",
         "type": "\"string\""
        },
        {
         "metadata": "{}",
         "name": "Month",
         "type": "\"integer\""
        },
        {
         "metadata": "{}",
         "name": "Year",
         "type": "\"integer\""
        },
        {
         "metadata": "{}",
         "name": "BranchName",
         "type": "\"string\""
        },
        {
         "metadata": "{}",
         "name": "DealerName",
         "type": "\"string\""
        },
        {
         "metadata": "{}",
         "name": "Product_Name",
         "type": "\"string\""
        },
        {
         "metadata": "{}",
         "name": "Date",
         "type": "\"string\""
        },
        {
         "metadata": "{}",
         "name": "dense_rank",
         "type": "\"integer\""
        },
        {
         "metadata": "{}",
         "name": "rank",
         "type": "\"integer\""
        }
       ],
       "type": "table"
      }
     },
     "output_type": "display_data"
    }
   ],
   "source": [
    "result_rank.limit(5).display()"
   ]
  },
  {
   "cell_type": "code",
   "execution_count": 0,
   "metadata": {
    "application/vnd.databricks.v1+cell": {
     "cellMetadata": {
      "byteLimit": 2048000,
      "rowLimit": 10000
     },
     "inputWidgets": {},
     "nuid": "7ca79712-f9e5-4693-bc12-eeb8e9c7a419",
     "showTitle": true,
     "tableResultSettingsMap": {},
     "title": "inserting new Data Frame"
    }
   },
   "outputs": [],
   "source": [
    "obj.df = result_rank"
   ]
  },
  {
   "cell_type": "code",
   "execution_count": 0,
   "metadata": {
    "application/vnd.databricks.v1+cell": {
     "cellMetadata": {
      "byteLimit": 2048000,
      "rowLimit": 10000
     },
     "inputWidgets": {},
     "nuid": "47430d1e-b3af-4943-867f-fe5e9fef230b",
     "showTitle": true,
     "tableResultSettingsMap": {},
     "title": "Calling a function"
    }
   },
   "outputs": [],
   "source": [
    "result_rank = obj.row_number('row_number','Month','Units_Sold')"
   ]
  },
  {
   "cell_type": "code",
   "execution_count": 0,
   "metadata": {
    "application/vnd.databricks.v1+cell": {
     "cellMetadata": {
      "byteLimit": 2048000,
      "rowLimit": 10000
     },
     "inputWidgets": {},
     "nuid": "bad51595-e341-4468-b077-a6273aa07445",
     "showTitle": true,
     "tableResultSettingsMap": {},
     "title": "Display"
    }
   },
   "outputs": [
    {
     "output_type": "display_data",
     "data": {
      "text/html": [
       "<style scoped>\n",
       "  .table-result-container {\n",
       "    max-height: 300px;\n",
       "    overflow: auto;\n",
       "  }\n",
       "  table, th, td {\n",
       "    border: 1px solid black;\n",
       "    border-collapse: collapse;\n",
       "  }\n",
       "  th, td {\n",
       "    padding: 5px;\n",
       "  }\n",
       "  th {\n",
       "    text-align: left;\n",
       "  }\n",
       "</style><div class='table-result-container'><table class='table-result'><thead style='background-color: white'><tr><th>Branch_ID</th><th>Dealer_ID</th><th>Model_ID</th><th>Revenue</th><th>Units_Sold</th><th>Date_ID</th><th>Month</th><th>Year</th><th>BranchName</th><th>DealerName</th><th>Product_Name</th><th>Date</th><th>dense_rank</th><th>rank</th><th>row_number</th></tr></thead><tbody><tr><td>BR1105</td><td>DLR0031</td><td>Nis-M268</td><td>2349414</td><td>3</td><td>DT01099</td><td>1</td><td>2020</td><td>Lotus Motors</td><td>Caterham Motors</td><td>Nissan</td><td>1/4/2020 0:00</td><td>1</td><td>1</td><td>1</td></tr><tr><td>BR1175</td><td>DLR0038</td><td>Mit-M275</td><td>6379479</td><td>3</td><td>DT01106</td><td>1</td><td>2020</td><td>Maruti Motors</td><td>Cizeta-Moroder Motors</td><td>Mitsubishi</td><td>1/11/2020 0:00</td><td>1</td><td>1</td><td>2</td></tr><tr><td>BR1205</td><td>DLR0041</td><td>BMW-M1</td><td>20119176</td><td>3</td><td>DT01109</td><td>1</td><td>2020</td><td>Matra (including Deutsch-Bonnet, René Bonnet) Motors</td><td>DAF Motors</td><td>BMW</td><td>1/14/2020 0:00</td><td>1</td><td>1</td><td>3</td></tr><tr><td>BR1215</td><td>DLR0042</td><td>BMW-M2</td><td>12564672</td><td>3</td><td>DT01110</td><td>1</td><td>2020</td><td>Mazda Motors</td><td>Daihatsu Motors</td><td>BMW</td><td>1/15/2020 0:00</td><td>1</td><td>1</td><td>4</td></tr><tr><td>BR1270</td><td>DLR0214</td><td>Toy-M134</td><td>22982112</td><td>3</td><td>DT01103</td><td>1</td><td>2020</td><td>Merkur Motors</td><td>Horch Motors</td><td>Toyota</td><td>1/8/2020 0:00</td><td>1</td><td>1</td><td>5</td></tr></tbody></table></div>"
      ]
     },
     "metadata": {
      "application/vnd.databricks.v1+output": {
       "addedWidgets": {},
       "aggData": [],
       "aggError": "",
       "aggOverflow": false,
       "aggSchema": [],
       "aggSeriesLimitReached": false,
       "aggType": "",
       "arguments": {},
       "columnCustomDisplayInfos": {},
       "data": [
        [
         "BR1105",
         "DLR0031",
         "Nis-M268",
         2349414,
         3,
         "DT01099",
         1,
         2020,
         "Lotus Motors",
         "Caterham Motors",
         "Nissan",
         "1/4/2020 0:00",
         1,
         1,
         1
        ],
        [
         "BR1175",
         "DLR0038",
         "Mit-M275",
         6379479,
         3,
         "DT01106",
         1,
         2020,
         "Maruti Motors",
         "Cizeta-Moroder Motors",
         "Mitsubishi",
         "1/11/2020 0:00",
         1,
         1,
         2
        ],
        [
         "BR1205",
         "DLR0041",
         "BMW-M1",
         20119176,
         3,
         "DT01109",
         1,
         2020,
         "Matra (including Deutsch-Bonnet, René Bonnet) Motors",
         "DAF Motors",
         "BMW",
         "1/14/2020 0:00",
         1,
         1,
         3
        ],
        [
         "BR1215",
         "DLR0042",
         "BMW-M2",
         12564672,
         3,
         "DT01110",
         1,
         2020,
         "Mazda Motors",
         "Daihatsu Motors",
         "BMW",
         "1/15/2020 0:00",
         1,
         1,
         4
        ],
        [
         "BR1270",
         "DLR0214",
         "Toy-M134",
         22982112,
         3,
         "DT01103",
         1,
         2020,
         "Merkur Motors",
         "Horch Motors",
         "Toyota",
         "1/8/2020 0:00",
         1,
         1,
         5
        ]
       ],
       "datasetInfos": [],
       "dbfsResultPath": null,
       "isJsonSchema": true,
       "metadata": {},
       "overflow": false,
       "plotOptions": {
        "customPlotOptions": {},
        "displayType": "table",
        "pivotAggregation": null,
        "pivotColumns": null,
        "xColumns": null,
        "yColumns": null
       },
       "removedWidgets": [],
       "schema": [
        {
         "metadata": "{}",
         "name": "Branch_ID",
         "type": "\"string\""
        },
        {
         "metadata": "{}",
         "name": "Dealer_ID",
         "type": "\"string\""
        },
        {
         "metadata": "{}",
         "name": "Model_ID",
         "type": "\"string\""
        },
        {
         "metadata": "{}",
         "name": "Revenue",
         "type": "\"integer\""
        },
        {
         "metadata": "{}",
         "name": "Units_Sold",
         "type": "\"integer\""
        },
        {
         "metadata": "{}",
         "name": "Date_ID",
         "type": "\"string\""
        },
        {
         "metadata": "{}",
         "name": "Month",
         "type": "\"integer\""
        },
        {
         "metadata": "{}",
         "name": "Year",
         "type": "\"integer\""
        },
        {
         "metadata": "{}",
         "name": "BranchName",
         "type": "\"string\""
        },
        {
         "metadata": "{}",
         "name": "DealerName",
         "type": "\"string\""
        },
        {
         "metadata": "{}",
         "name": "Product_Name",
         "type": "\"string\""
        },
        {
         "metadata": "{}",
         "name": "Date",
         "type": "\"string\""
        },
        {
         "metadata": "{}",
         "name": "dense_rank",
         "type": "\"integer\""
        },
        {
         "metadata": "{}",
         "name": "rank",
         "type": "\"integer\""
        },
        {
         "metadata": "{}",
         "name": "row_number",
         "type": "\"integer\""
        }
       ],
       "type": "table"
      }
     },
     "output_type": "display_data"
    }
   ],
   "source": [
    "result_rank.limit(5).display()"
   ]
  },
  {
   "cell_type": "code",
   "execution_count": 0,
   "metadata": {
    "application/vnd.databricks.v1+cell": {
     "cellMetadata": {
      "byteLimit": 2048000,
      "rowLimit": 10000
     },
     "inputWidgets": {},
     "nuid": "d3a4b061-f44a-49d5-872c-925a8b2fe364",
     "showTitle": false,
     "tableResultSettingsMap": {},
     "title": ""
    }
   },
   "outputs": [],
   "source": []
  }
 ],
 "metadata": {
  "application/vnd.databricks.v1+notebook": {
   "computePreferences": null,
   "dashboards": [],
   "environmentMetadata": {
    "base_environment": "",
    "environment_version": "1"
   },
   "inputWidgetPreferences": null,
   "language": "python",
   "notebookMetadata": {
    "pythonIndentUnit": 4
   },
   "notebookName": "Class",
   "widgets": {}
  }
 },
 "nbformat": 4,
 "nbformat_minor": 0
}