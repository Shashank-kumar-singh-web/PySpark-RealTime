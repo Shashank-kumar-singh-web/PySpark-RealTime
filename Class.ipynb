{
 "cells": [
  {
   "cell_type": "code",
   "execution_count": 0,
   "metadata": {
    "application/vnd.databricks.v1+cell": {
     "cellMetadata": {
      "byteLimit": 2048000,
      "rowLimit": 10000
     },
     "inputWidgets": {},
     "nuid": "c4093d89-7852-48ef-9d27-2ad0f0d466ee",
     "showTitle": true,
     "tableResultSettingsMap": {},
     "title": "importing"
    }
   },
   "outputs": [],
   "source": [
    "from pyspark.sql.functions import * \n",
    "from pyspark.sql.types import * \n",
    "from pyspark.sql.window import Window"
   ]
  },
  {
   "cell_type": "code",
   "execution_count": 0,
   "metadata": {
    "application/vnd.databricks.v1+cell": {
     "cellMetadata": {
      "byteLimit": 2048000,
      "rowLimit": 10000
     },
     "inputWidgets": {},
     "nuid": "1a283305-7345-4fe1-bc0f-aae91fa45663",
     "showTitle": true,
     "tableResultSettingsMap": {},
     "title": "Defining a class"
    }
   },
   "outputs": [],
   "source": [
    "class WindowFunction:\n",
    "    df= spark.read.format('csv')\\\n",
    "        .option('inferschema', True)\\\n",
    "        .option('header',True)\\\n",
    "        .load('/FileStore/RealTime/rawsource/sales_data_first.csv')\n",
    "    \n",
    "    def dense_rank_func(self, newColumn, part_col, ord_col):\n",
    "        df= self.df.withColumn(newColumn, dense_rank()\\\n",
    "            .over(Window.partitionBy(part_col).orderBy(col(ord_col).desc())))\n",
    "        return df\n",
    "    def rank_func(self, newColumn, part_col, ord_col):\n",
    "        df= self.df.withColumn(newColumn, rank()\\\n",
    "            .over(Window.partitionBy(part_col).orderBy(col(ord_col).desc())))\n",
    "        return df\n",
    "    def row_number(self, newColumn, part_col, ord_col):\n",
    "        df= self.df.withColumn(newColumn, row_number()\\\n",
    "            .over(Window.partitionBy(part_col).orderBy(col(ord_col).desc())))\n",
    "        return df\n"
   ]
  },
  {
   "cell_type": "code",
   "execution_count": 0,
   "metadata": {
    "application/vnd.databricks.v1+cell": {
     "cellMetadata": {
      "byteLimit": 2048000,
      "rowLimit": 10000
     },
     "inputWidgets": {},
     "nuid": "6dd69748-8708-4255-83b8-987da86f07eb",
     "showTitle": true,
     "tableResultSettingsMap": {},
     "title": "Create Object"
    }
   },
   "outputs": [],
   "source": [
    "obj = WindowFunction()\n"
   ]
  },
  {
   "cell_type": "code",
   "execution_count": 0,
   "metadata": {
    "application/vnd.databricks.v1+cell": {
     "cellMetadata": {
      "byteLimit": 2048000,
      "rowLimit": 10000
     },
     "inputWidgets": {},
     "nuid": "7391c361-ec5d-4de0-ad3d-386361dbbe4e",
     "showTitle": true,
     "tableResultSettingsMap": {},
     "title": "Calling A function"
    }
   },
   "outputs": [],
   "source": [
    "result_dense_rank = obj.dense_rank_func('dense_rank','Month','Units_Sold')"
   ]
  },
  {
   "cell_type": "code",
   "execution_count": 0,
   "metadata": {
    "application/vnd.databricks.v1+cell": {
     "cellMetadata": {
      "byteLimit": 2048000,
      "rowLimit": 10000
     },
     "inputWidgets": {},
     "nuid": "606f787f-3253-4ae5-9b46-dd065e2095a9",
     "showTitle": true,
     "tableResultSettingsMap": {},
     "title": "Display"
    }
   },
   "outputs": [
    {
     "output_type": "display_data",
     "data": {
      "text/html": [
       "<style scoped>\n",
       "  .table-result-container {\n",
       "    max-height: 300px;\n",
       "    overflow: auto;\n",
       "  }\n",
       "  table, th, td {\n",
       "    border: 1px solid black;\n",
       "    border-collapse: collapse;\n",
       "  }\n",
       "  th, td {\n",
       "    padding: 5px;\n",
       "  }\n",
       "  th {\n",
       "    text-align: left;\n",
       "  }\n",
       "</style><div class='table-result-container'><table class='table-result'><thead style='background-color: white'><tr><th>Branch_ID</th><th>Dealer_ID</th><th>Model_ID</th><th>Revenue</th><th>Units_Sold</th><th>Date_ID</th><th>Month</th><th>Year</th><th>BranchName</th><th>DealerName</th><th>Product_Name</th><th>Date</th><th>dense_rank</th></tr></thead><tbody><tr><td>BR1105</td><td>DLR0031</td><td>Nis-M268</td><td>2349414</td><td>3</td><td>DT01099</td><td>1</td><td>2020</td><td>Lotus Motors</td><td>Caterham Motors</td><td>Nissan</td><td>1/4/2020 0:00</td><td>1</td></tr><tr><td>BR1175</td><td>DLR0038</td><td>Mit-M275</td><td>6379479</td><td>3</td><td>DT01106</td><td>1</td><td>2020</td><td>Maruti Motors</td><td>Cizeta-Moroder Motors</td><td>Mitsubishi</td><td>1/11/2020 0:00</td><td>1</td></tr><tr><td>BR1205</td><td>DLR0041</td><td>BMW-M1</td><td>20119176</td><td>3</td><td>DT01109</td><td>1</td><td>2020</td><td>Matra (including Deutsch-Bonnet, René Bonnet) Motors</td><td>DAF Motors</td><td>BMW</td><td>1/14/2020 0:00</td><td>1</td></tr><tr><td>BR1215</td><td>DLR0042</td><td>BMW-M2</td><td>12564672</td><td>3</td><td>DT01110</td><td>1</td><td>2020</td><td>Mazda Motors</td><td>Daihatsu Motors</td><td>BMW</td><td>1/15/2020 0:00</td><td>1</td></tr><tr><td>BR1270</td><td>DLR0214</td><td>Toy-M134</td><td>22982112</td><td>3</td><td>DT01103</td><td>1</td><td>2020</td><td>Merkur Motors</td><td>Horch Motors</td><td>Toyota</td><td>1/8/2020 0:00</td><td>1</td></tr></tbody></table></div>"
      ]
     },
     "metadata": {
      "application/vnd.databricks.v1+output": {
       "addedWidgets": {},
       "aggData": [],
       "aggError": "",
       "aggOverflow": false,
       "aggSchema": [],
       "aggSeriesLimitReached": false,
       "aggType": "",
       "arguments": {},
       "columnCustomDisplayInfos": {},
       "data": [
        [
         "BR1105",
         "DLR0031",
         "Nis-M268",
         2349414,
         3,
         "DT01099",
         1,
         2020,
         "Lotus Motors",
         "Caterham Motors",
         "Nissan",
         "1/4/2020 0:00",
         1
        ],
        [
         "BR1175",
         "DLR0038",
         "Mit-M275",
         6379479,
         3,
         "DT01106",
         1,
         2020,
         "Maruti Motors",
         "Cizeta-Moroder Motors",
         "Mitsubishi",
         "1/11/2020 0:00",
         1
        ],
        [
         "BR1205",
         "DLR0041",
         "BMW-M1",
         20119176,
         3,
         "DT01109",
         1,
         2020,
         "Matra (including Deutsch-Bonnet, René Bonnet) Motors",
         "DAF Motors",
         "BMW",
         "1/14/2020 0:00",
         1
        ],
        [
         "BR1215",
         "DLR0042",
         "BMW-M2",
         12564672,
         3,
         "DT01110",
         1,
         2020,
         "Mazda Motors",
         "Daihatsu Motors",
         "BMW",
         "1/15/2020 0:00",
         1
        ],
        [
         "BR1270",
         "DLR0214",
         "Toy-M134",
         22982112,
         3,
         "DT01103",
         1,
         2020,
         "Merkur Motors",
         "Horch Motors",
         "Toyota",
         "1/8/2020 0:00",
         1
        ]
       ],
       "datasetInfos": [],
       "dbfsResultPath": null,
       "isJsonSchema": true,
       "metadata": {},
       "overflow": false,
       "plotOptions": {
        "customPlotOptions": {},
        "displayType": "table",
        "pivotAggregation": null,
        "pivotColumns": null,
        "xColumns": null,
        "yColumns": null
       },
       "removedWidgets": [],
       "schema": [
        {
         "metadata": "{}",
         "name": "Branch_ID",
         "type": "\"string\""
        },
        {
         "metadata": "{}",
         "name": "Dealer_ID",
         "type": "\"string\""
        },
        {
         "metadata": "{}",
         "name": "Model_ID",
         "type": "\"string\""
        },
        {
         "metadata": "{}",
         "name": "Revenue",
         "type": "\"integer\""
        },
        {
         "metadata": "{}",
         "name": "Units_Sold",
         "type": "\"integer\""
        },
        {
         "metadata": "{}",
         "name": "Date_ID",
         "type": "\"string\""
        },
        {
         "metadata": "{}",
         "name": "Month",
         "type": "\"integer\""
        },
        {
         "metadata": "{}",
         "name": "Year",
         "type": "\"integer\""
        },
        {
         "metadata": "{}",
         "name": "BranchName",
         "type": "\"string\""
        },
        {
         "metadata": "{}",
         "name": "DealerName",
         "type": "\"string\""
        },
        {
         "metadata": "{}",
         "name": "Product_Name",
         "type": "\"string\""
        },
        {
         "metadata": "{}",
         "name": "Date",
         "type": "\"string\""
        },
        {
         "metadata": "{}",
         "name": "dense_rank",
         "type": "\"integer\""
        }
       ],
       "type": "table"
      }
     },
     "output_type": "display_data"
    }
   ],
   "source": [
    "result_dense_rank.limit(5).display()"
   ]
  },
  {
   "cell_type": "code",
   "execution_count": 0,
   "metadata": {
    "application/vnd.databricks.v1+cell": {
     "cellMetadata": {
      "byteLimit": 2048000,
      "rowLimit": 10000
     },
     "inputWidgets": {},
     "nuid": "c3f45b43-6d0c-4ba1-9a3b-64106c998a2a",
     "showTitle": true,
     "tableResultSettingsMap": {},
     "title": "Inserting new Data Frame"
    }
   },
   "outputs": [],
   "source": [
    "obj.df=result_dense_rank"
   ]
  },
  {
   "cell_type": "code",
   "execution_count": 0,
   "metadata": {
    "application/vnd.databricks.v1+cell": {
     "cellMetadata": {
      "byteLimit": 2048000,
      "rowLimit": 10000
     },
     "inputWidgets": {},
     "nuid": "cf81279d-8041-49e6-af66-b7d79cee73c7",
     "showTitle": true,
     "tableResultSettingsMap": {},
     "title": "Calling a function"
    }
   },
   "outputs": [],
   "source": [
    "result_rank = obj.rank_func('rank','Month','Units_Sold')"
   ]
  },
  {
   "cell_type": "code",
   "execution_count": 0,
   "metadata": {
    "application/vnd.databricks.v1+cell": {
     "cellMetadata": {
      "byteLimit": 2048000,
      "rowLimit": 10000
     },
     "inputWidgets": {},
     "nuid": "81243e02-7aeb-4608-9f2a-06a433acc091",
     "showTitle": true,
     "tableResultSettingsMap": {},
     "title": "Display"
    }
   },
   "outputs": [
    {
     "output_type": "display_data",
     "data": {
      "text/html": [
       "<style scoped>\n",
       "  .table-result-container {\n",
       "    max-height: 300px;\n",
       "    overflow: auto;\n",
       "  }\n",
       "  table, th, td {\n",
       "    border: 1px solid black;\n",
       "    border-collapse: collapse;\n",
       "  }\n",
       "  th, td {\n",
       "    padding: 5px;\n",
       "  }\n",
       "  th {\n",
       "    text-align: left;\n",
       "  }\n",
       "</style><div class='table-result-container'><table class='table-result'><thead style='background-color: white'><tr><th>Branch_ID</th><th>Dealer_ID</th><th>Model_ID</th><th>Revenue</th><th>Units_Sold</th><th>Date_ID</th><th>Month</th><th>Year</th><th>BranchName</th><th>DealerName</th><th>Product_Name</th><th>Date</th><th>dense_rank</th><th>rank</th></tr></thead><tbody><tr><td>BR1105</td><td>DLR0031</td><td>Nis-M268</td><td>2349414</td><td>3</td><td>DT01099</td><td>1</td><td>2020</td><td>Lotus Motors</td><td>Caterham Motors</td><td>Nissan</td><td>1/4/2020 0:00</td><td>1</td><td>1</td></tr><tr><td>BR1175</td><td>DLR0038</td><td>Mit-M275</td><td>6379479</td><td>3</td><td>DT01106</td><td>1</td><td>2020</td><td>Maruti Motors</td><td>Cizeta-Moroder Motors</td><td>Mitsubishi</td><td>1/11/2020 0:00</td><td>1</td><td>1</td></tr><tr><td>BR1205</td><td>DLR0041</td><td>BMW-M1</td><td>20119176</td><td>3</td><td>DT01109</td><td>1</td><td>2020</td><td>Matra (including Deutsch-Bonnet, René Bonnet) Motors</td><td>DAF Motors</td><td>BMW</td><td>1/14/2020 0:00</td><td>1</td><td>1</td></tr><tr><td>BR1215</td><td>DLR0042</td><td>BMW-M2</td><td>12564672</td><td>3</td><td>DT01110</td><td>1</td><td>2020</td><td>Mazda Motors</td><td>Daihatsu Motors</td><td>BMW</td><td>1/15/2020 0:00</td><td>1</td><td>1</td></tr><tr><td>BR1270</td><td>DLR0214</td><td>Toy-M134</td><td>22982112</td><td>3</td><td>DT01103</td><td>1</td><td>2020</td><td>Merkur Motors</td><td>Horch Motors</td><td>Toyota</td><td>1/8/2020 0:00</td><td>1</td><td>1</td></tr><tr><td>BR1290</td><td>DLR0216</td><td>Vol-M136</td><td>19641387</td><td>3</td><td>DT01105</td><td>1</td><td>2020</td><td>Mia Motors</td><td>Maybach  Motors</td><td>Volkswagen</td><td>1/10/2020 0:00</td><td>1</td><td>1</td></tr><tr><td>BR1300</td><td>DLR0217</td><td>Mar-M137</td><td>8749140</td><td>3</td><td>DT01106</td><td>1</td><td>2020</td><td>Micro Motors</td><td>Izh  Motors</td><td>Maruti Suzuki</td><td>1/11/2020 0:00</td><td>1</td><td>1</td></tr><tr><td>BR1305</td><td>DLR0051</td><td>Jee-M11</td><td>4375707</td><td>3</td><td>DT01119</td><td>1</td><td>2020</td><td>Mini Motors</td><td>Edsel Motors</td><td>Jeep</td><td>1/24/2020 0:00</td><td>1</td><td>1</td></tr><tr><td>BR1315</td><td>DLR0052</td><td>Jee-M12</td><td>6981696</td><td>3</td><td>DT01120</td><td>1</td><td>2020</td><td>Mitsubishi Motors</td><td>e.GO Mobile Motors</td><td>Jeep</td><td>1/25/2020 0:00</td><td>1</td><td>1</td></tr><tr><td>BR1370</td><td>DLR0224</td><td>Mar-M144</td><td>22596384</td><td>3</td><td>DT01113</td><td>1</td><td>2020</td><td>Nash Motors</td><td>Standard  Motors</td><td>Maruti Suzuki</td><td>1/18/2020 0:00</td><td>1</td><td>1</td></tr><tr><td>BR1380</td><td>DLR0225</td><td>Mar-M145</td><td>5143059</td><td>3</td><td>DT01114</td><td>1</td><td>2020</td><td>Naza Motors</td><td>Talbot  Motors</td><td>Maruti Suzuki</td><td>1/19/2020 0:00</td><td>1</td><td>1</td></tr><tr><td>BR1410</td><td>DLR0228</td><td>Mar-M148</td><td>22715907</td><td>3</td><td>DT01117</td><td>1</td><td>2020</td><td>Noble Motors</td><td>Deccan Motors</td><td>Maruti Suzuki</td><td>1/22/2020 0:00</td><td>1</td><td>1</td></tr><tr><td>BR1440</td><td>DLR0231</td><td>Mar-M151</td><td>12650379</td><td>3</td><td>DT01120</td><td>1</td><td>2020</td><td>Oltcit Motors</td><td>Atlantic Motor Company</td><td>Maruti Suzuki</td><td>1/25/2020 0:00</td><td>1</td><td>1</td></tr><tr><td>BR1450</td><td>DLR0232</td><td>Mar-M152</td><td>19474533</td><td>3</td><td>DT01121</td><td>1</td><td>2020</td><td>Opel Motors</td><td>2008 NRHP-listed</td><td>Maruti Suzuki</td><td>1/26/2020 0:00</td><td>1</td><td>1</td></tr><tr><td>BR1125</td><td>DLR0033</td><td>Nis-M270</td><td>5501066</td><td>2</td><td>DT01101</td><td>1</td><td>2020</td><td>LuAZ Motors</td><td>Chevrolet Motors</td><td>Nissan</td><td>1/6/2020 0:00</td><td>2</td><td>15</td></tr><tr><td>BR1135</td><td>DLR0034</td><td>Sko-M271</td><td>15299630</td><td>2</td><td>DT01102</td><td>1</td><td>2020</td><td>Lynx Motors</td><td>Chevrolet India Motors</td><td>Skoda</td><td>1/7/2020 0:00</td><td>2</td><td>15</td></tr><tr><td>BR1155</td><td>DLR0036</td><td>Sko-M273</td><td>6991308</td><td>2</td><td>DT01104</td><td>1</td><td>2020</td><td>Marcos Motors</td><td>Chrysler Europe Motors</td><td>Skoda</td><td>1/9/2020 0:00</td><td>2</td><td>15</td></tr><tr><td>BR1195</td><td>DLR0040</td><td>Mit-M277</td><td>12731434</td><td>2</td><td>DT01108</td><td>1</td><td>2020</td><td>Mastretta Motors</td><td>Daewoo, Saehan, Chevrolet Korea Motors</td><td>Mitsubishi</td><td>1/13/2020 0:00</td><td>2</td><td>15</td></tr><tr><td>BR1210</td><td>DLR0208</td><td>Ren-M128</td><td>9250976</td><td>2</td><td>DT01097</td><td>1</td><td>2020</td><td>Matra (including Deutsch-Bonnet, René Bonnet) Motors</td><td>Wiesmann Motors</td><td>Renault</td><td>1/2/2020 0:00</td><td>2</td><td>15</td></tr><tr><td>BR1230</td><td>DLR0210</td><td>Ren-M130</td><td>16850778</td><td>2</td><td>DT01099</td><td>1</td><td>2020</td><td>Mazzanti Motors</td><td>ZAZ Motors</td><td>Renault</td><td>1/4/2020 0:00</td><td>2</td><td>15</td></tr><tr><td>BR1235</td><td>DLR0044</td><td>BMW-M4</td><td>7034814</td><td>2</td><td>DT01112</td><td>1</td><td>2020</td><td>McLaren Motors</td><td>null</td><td>BMW</td><td>1/17/2020 0:00</td><td>2</td><td>15</td></tr><tr><td>BR1255</td><td>DLR0046</td><td>Mer-M6</td><td>4815214</td><td>2</td><td>DT01114</td><td>1</td><td>2020</td><td>Mercury Motors</td><td>DeLorean Motors</td><td>Mercedes-Benz</td><td>1/19/2020 0:00</td><td>2</td><td>15</td></tr><tr><td>BR1295</td><td>DLR0050</td><td>Jee-M10</td><td>14558850</td><td>2</td><td>DT01118</td><td>1</td><td>2020</td><td>Micro Motors</td><td>Donkervoort Motors</td><td>Jeep</td><td>1/23/2020 0:00</td><td>2</td><td>15</td></tr><tr><td>BR1320</td><td>DLR0219</td><td>Mar-M139</td><td>15720604</td><td>2</td><td>DT01108</td><td>1</td><td>2020</td><td>Mitsubishi Motors</td><td>MG  Motors</td><td>Maruti Suzuki</td><td>1/13/2020 0:00</td><td>2</td><td>15</td></tr><tr><td>BR1325</td><td>DLR0053</td><td>Jee-M13</td><td>11820578</td><td>2</td><td>DT01121</td><td>1</td><td>2020</td><td>Monica Motors</td><td>Eicher Polaris Motors</td><td>Jeep</td><td>1/26/2020 0:00</td><td>2</td><td>15</td></tr><tr><td>BR1330</td><td>DLR0220</td><td>Mar-M140</td><td>4505054</td><td>2</td><td>DT01109</td><td>1</td><td>2020</td><td>Monica Motors</td><td>Morris  Motors</td><td>Maruti Suzuki</td><td>1/14/2020 0:00</td><td>2</td><td>15</td></tr><tr><td>BR1360</td><td>DLR0223</td><td>Mar-M143</td><td>10719476</td><td>2</td><td>DT01112</td><td>1</td><td>2020</td><td>Moskwitch Motors</td><td>Wolseley  Motors</td><td>Maruti Suzuki</td><td>1/17/2020 0:00</td><td>2</td><td>15</td></tr><tr><td>BR1390</td><td>DLR0226</td><td>Mar-M146</td><td>18375622</td><td>2</td><td>DT01115</td><td>1</td><td>2020</td><td>Nissan Motors</td><td>Das Motors</td><td>Maruti Suzuki</td><td>1/20/2020 0:00</td><td>2</td><td>15</td></tr><tr><td>BR1460</td><td>DLR0233</td><td>Hyu-M153</td><td>5377184</td><td>2</td><td>DT01122</td><td>1</td><td>2020</td><td>Packard Motors</td><td>Blankinship Motor Company Building</td><td>Hyundai</td><td>1/27/2020 0:00</td><td>2</td><td>15</td></tr><tr><td>BR1480</td><td>DLR0235</td><td>Hyu-M155</td><td>16603584</td><td>2</td><td>DT01124</td><td>1</td><td>2020</td><td>Panhard Motors</td><td>Buick Automobile Company Building</td><td>Hyundai</td><td>1/29/2020 0:00</td><td>2</td><td>15</td></tr><tr><td>BR1075</td><td>DLR0028</td><td>Nis-M265</td><td>946626</td><td>1</td><td>DT01096</td><td>1</td><td>2020</td><td>Lexus Motors</td><td>Buick Motors</td><td>Nissan</td><td>1/1/2020 0:00</td><td>3</td><td>31</td></tr><tr><td>BR1145</td><td>DLR0035</td><td>Sko-M272</td><td>573260</td><td>1</td><td>DT01103</td><td>1</td><td>2020</td><td>Mahindra Motors</td><td>Chrysler Motors</td><td>Skoda</td><td>1/8/2020 0:00</td><td>3</td><td>31</td></tr><tr><td>BR1165</td><td>DLR0037</td><td>Sko-M274</td><td>4594208</td><td>1</td><td>DT01105</td><td>1</td><td>2020</td><td>Marlin Motors</td><td>Citroën Motors</td><td>Skoda</td><td>1/10/2020 0:00</td><td>3</td><td>31</td></tr><tr><td>BR1200</td><td>DLR0207</td><td>Ren-M127</td><td>5217794</td><td>1</td><td>DT01096</td><td>1</td><td>2020</td><td>Mastretta Motors</td><td>Westfield Motors</td><td>Renault</td><td>1/1/2020 0:00</td><td>3</td><td>31</td></tr><tr><td>BR1220</td><td>DLR0209</td><td>Ren-M129</td><td>3678913</td><td>1</td><td>DT01098</td><td>1</td><td>2020</td><td>Mazda Motors</td><td>Zastava Motors</td><td>Renault</td><td>1/3/2020 0:00</td><td>3</td><td>31</td></tr><tr><td>BR1240</td><td>DLR0211</td><td>Ren-M131</td><td>2717264</td><td>1</td><td>DT01100</td><td>1</td><td>2020</td><td>McLaren Motors</td><td>ZIL Motors</td><td>Renault</td><td>1/5/2020 0:00</td><td>3</td><td>31</td></tr><tr><td>BR1245</td><td>DLR0045</td><td>BMW-M5</td><td>3141089</td><td>1</td><td>DT01113</td><td>1</td><td>2020</td><td>Mercedes-Benz (including Maybach) Motors</td><td>Delahaye Motors</td><td>BMW</td><td>1/18/2020 0:00</td><td>3</td><td>31</td></tr><tr><td>BR1275</td><td>DLR0048</td><td>Mer-M8</td><td>1681622</td><td>1</td><td>DT01116</td><td>1</td><td>2020</td><td>Messerschmitt Motors</td><td>De Tomaso Motors</td><td>Mercedes-Benz</td><td>1/21/2020 0:00</td><td>3</td><td>31</td></tr><tr><td>BR1310</td><td>DLR0218</td><td>Mar-M138</td><td>1791030</td><td>1</td><td>DT01107</td><td>1</td><td>2020</td><td>Mini Motors</td><td>Lagonda  Motors</td><td>Maruti Suzuki</td><td>1/12/2020 0:00</td><td>3</td><td>31</td></tr><tr><td>BR1340</td><td>DLR0221</td><td>Mar-M141</td><td>7636791</td><td>1</td><td>DT01110</td><td>1</td><td>2020</td><td>Monteverdi Motors</td><td>Austin  Motors</td><td>Maruti Suzuki</td><td>1/15/2020 0:00</td><td>3</td><td>31</td></tr><tr><td>BR1365</td><td>DLR0057</td><td>For-M17</td><td>1729269</td><td>1</td><td>DT01125</td><td>1</td><td>2020</td><td>Nash Motors</td><td>Fiat Motors</td><td>Ford</td><td>1/30/2020 0:00</td><td>3</td><td>31</td></tr><tr><td>BR1420</td><td>DLR0229</td><td>Mar-M149</td><td>3362029</td><td>1</td><td>DT01118</td><td>1</td><td>2020</td><td>NSU Motors</td><td>Herald Motors</td><td>Maruti Suzuki</td><td>1/23/2020 0:00</td><td>3</td><td>31</td></tr><tr><td>BR1425</td><td>DLR0063</td><td>For-M23</td><td>19571838</td><td>3</td><td>DT01131</td><td>2</td><td>2020</td><td>Oldsmobile Motors</td><td>Ford do Brasil Motors</td><td>Ford</td><td>2/5/2020 0:00</td><td>1</td><td>1</td></tr><tr><td>BR1510</td><td>DLR0238</td><td>Hyu-M158</td><td>21888990</td><td>3</td><td>DT01127</td><td>2</td><td>2020</td><td>Peel Motors</td><td>Cass Motor Sales</td><td>Hyundai</td><td>2/1/2020 0:00</td><td>1</td><td>1</td></tr><tr><td>BR1515</td><td>DLR0072</td><td>Cad-M32</td><td>14614923</td><td>3</td><td>DT01140</td><td>2</td><td>2020</td><td>Perodua Motors</td><td>Glas Motors</td><td>Cadillac</td><td>2/14/2020 0:00</td><td>1</td><td>1</td></tr><tr><td>BR1520</td><td>DLR0239</td><td>Hyu-M159</td><td>28839432</td><td>3</td><td>DT01128</td><td>2</td><td>2020</td><td>Perodua Motors</td><td>Claremore Auto Dealership</td><td>Hyundai</td><td>2/2/2020 0:00</td><td>1</td><td>1</td></tr><tr><td>BR1530</td><td>DLR0240</td><td>Hyu-M160</td><td>4257825</td><td>3</td><td>DT01129</td><td>2</td><td>2020</td><td>Peugeot Motors</td><td>Clemens Automobile Company Building</td><td>Hyundai</td><td>2/3/2020 0:00</td><td>1</td><td>1</td></tr><tr><td>BR1540</td><td>DLR0241</td><td>Hyu-M161</td><td>19956204</td><td>3</td><td>DT01130</td><td>2</td><td>2020</td><td>PGO Motors</td><td>Colman Automotive Building</td><td>Hyundai</td><td>2/4/2020 0:00</td><td>1</td><td>1</td></tr><tr><td>BR1555</td><td>DLR0076</td><td>Cad-M36</td><td>20868240</td><td>3</td><td>DT01144</td><td>2</td><td>2020</td><td>Plymouth Motors</td><td>Healey Motors</td><td>Cadillac</td><td>2/18/2020 0:00</td><td>1</td><td>1</td></tr><tr><td>BR1560</td><td>DLR0243</td><td>Hyu-M163</td><td>9443751</td><td>3</td><td>DT01132</td><td>2</td><td>2020</td><td>Plymouth Motors</td><td>Howard Motor Company Building</td><td>Hyundai</td><td>2/6/2020 0:00</td><td>1</td><td>1</td></tr><tr><td>BR1565</td><td>DLR0077</td><td>Cad-M37</td><td>14383581</td><td>3</td><td>DT01145</td><td>2</td><td>2020</td><td>Polestar Motors</td><td>Heinkel Motors</td><td>Cadillac</td><td>2/19/2020 0:00</td><td>1</td><td>1</td></tr><tr><td>BR1395</td><td>DLR0060</td><td>For-M20</td><td>3826662</td><td>2</td><td>DT01128</td><td>2</td><td>2020</td><td>Nissan India Motors</td><td>Fisker, Karma Motors</td><td>Ford</td><td>2/2/2020 0:00</td><td>2</td><td>10</td></tr><tr><td>BR1445</td><td>DLR0065</td><td>For-M25</td><td>17788070</td><td>2</td><td>DT01133</td><td>2</td><td>2020</td><td>Opel Motors</td><td>Ford India Motors</td><td>Ford</td><td>2/7/2020 0:00</td><td>2</td><td>10</td></tr><tr><td>BR1455</td><td>DLR0066</td><td>For-M26</td><td>5109932</td><td>2</td><td>DT01134</td><td>2</td><td>2020</td><td>Packard Motors</td><td>Freightliner Motors</td><td>Ford</td><td>2/8/2020 0:00</td><td>2</td><td>10</td></tr><tr><td>BR1465</td><td>DLR0067</td><td>Lin-M27</td><td>756130</td><td>2</td><td>DT01135</td><td>2</td><td>2020</td><td>Pagani Motors</td><td>FSO Motors</td><td>Lincoln</td><td>2/9/2020 0:00</td><td>2</td><td>10</td></tr><tr><td>BR1475</td><td>DLR0068</td><td>Lin-M28</td><td>14722240</td><td>2</td><td>DT01136</td><td>2</td><td>2020</td><td>Panhard Motors</td><td>GAZ Motors</td><td>Lincoln</td><td>2/10/2020 0:00</td><td>2</td><td>10</td></tr><tr><td>BR1545</td><td>DLR0075</td><td>Cad-M35</td><td>11312878</td><td>2</td><td>DT01143</td><td>2</td><td>2020</td><td>Piaggio Motors</td><td>Gumpert Motors</td><td>Cadillac</td><td>2/17/2020 0:00</td><td>2</td><td>10</td></tr><tr><td>BR1570</td><td>DLR0244</td><td>Hyu-M164</td><td>12224948</td><td>2</td><td>DT01133</td><td>2</td><td>2020</td><td>Polestar Motors</td><td>Hupmobile Building</td><td>Hyundai</td><td>2/7/2020 0:00</td><td>2</td><td>10</td></tr><tr><td>BR1405</td><td>DLR0061</td><td>For-M21</td><td>8119439</td><td>1</td><td>DT01129</td><td>2</td><td>2020</td><td>Noble Motors</td><td>Ford America Motors</td><td>Ford</td><td>2/3/2020 0:00</td><td>3</td><td>17</td></tr><tr><td>BR1435</td><td>DLR0064</td><td>For-M24</td><td>8184657</td><td>1</td><td>DT01132</td><td>2</td><td>2020</td><td>Oltcit Motors</td><td>Ford Europe Motors</td><td>Ford</td><td>2/6/2020 0:00</td><td>3</td><td>17</td></tr><tr><td>BR1485</td><td>DLR0069</td><td>Lin-M29</td><td>6430716</td><td>1</td><td>DT01137</td><td>2</td><td>2020</td><td>Panoz Motors</td><td>Geo Motors</td><td>Lincoln</td><td>2/11/2020 0:00</td><td>3</td><td>17</td></tr><tr><td>BR1495</td><td>DLR0070</td><td>Lin-M30</td><td>3396415</td><td>1</td><td>DT01138</td><td>2</td><td>2020</td><td>Panther Motors</td><td>Gilbern Motors</td><td>Lincoln</td><td>2/12/2020 0:00</td><td>3</td><td>17</td></tr><tr><td>BR1525</td><td>DLR0073</td><td>Cad-M33</td><td>5345219</td><td>1</td><td>DT01141</td><td>2</td><td>2020</td><td>Peugeot Motors</td><td>GMC Motors</td><td>Cadillac</td><td>2/15/2020 0:00</td><td>3</td><td>17</td></tr><tr><td>BR1575</td><td>DLR0078</td><td>Cad-M38</td><td>8234393</td><td>1</td><td>DT01146</td><td>2</td><td>2020</td><td>Pontiac, Asüna Motors</td><td>Hennessey Motors</td><td>Cadillac</td><td>2/20/2020 0:00</td><td>3</td><td>17</td></tr><tr><td>BR1585</td><td>DLR0079</td><td>Cad-M39</td><td>2785750</td><td>1</td><td>DT01147</td><td>2</td><td>2020</td><td>Porsche Motors</td><td>Hillman Motors</td><td>Cadillac</td><td>2/21/2020 0:00</td><td>3</td><td>17</td></tr><tr><td>BR1590</td><td>DLR0246</td><td>Mah-M166</td><td>4431368</td><td>1</td><td>DT01135</td><td>2</td><td>2020</td><td>Porsche Motors</td><td>Jones Motor Company</td><td>Mahindra</td><td>2/9/2020 0:00</td><td>3</td><td>17</td></tr><tr><td>BR1595</td><td>DLR0080</td><td>Che-M40</td><td>7968813</td><td>1</td><td>DT01148</td><td>2</td><td>2020</td><td>Premier Motors</td><td>Hindustan Motors</td><td>Chevrolet</td><td>2/22/2020 0:00</td><td>3</td><td>17</td></tr><tr><td>BR1600</td><td>DLR0247</td><td>Mah-M167</td><td>112246</td><td>1</td><td>DT01136</td><td>2</td><td>2020</td><td>Premier Motors</td><td>Kindel Building</td><td>Mahindra</td><td>2/10/2020 0:00</td><td>3</td><td>17</td></tr><tr><td>BR0006</td><td>DLR0168</td><td>Ren-M128</td><td>12971088</td><td>3</td><td>DT01236</td><td>5</td><td>2020</td><td>AC Cars Motors</td><td>Saab Motors</td><td>Renault</td><td>5/20/2020 0:00</td><td>1</td><td>1</td></tr><tr><td>BR0011</td><td>DLR0069</td><td>Vol-M256</td><td>14181510</td><td>3</td><td>DT01225</td><td>5</td><td>2020</td><td>Acura Motors</td><td>Geo Motors</td><td>Volkswagen</td><td>5/9/2020 0:00</td><td>1</td><td>1</td></tr><tr><td>BR0061</td><td>DLR0074</td><td>Nis-M261</td><td>11270580</td><td>3</td><td>DT01230</td><td>5</td><td>2020</td><td>AMC, Eagle Motors</td><td>GTA Spano Motors</td><td>Nissan</td><td>5/14/2020 0:00</td><td>1</td><td>1</td></tr><tr><td>BR0071</td><td>DLR0075</td><td>Nis-M262</td><td>18784710</td><td>3</td><td>DT01231</td><td>5</td><td>2020</td><td>Anadol Motors</td><td>Gumpert Motors</td><td>Nissan</td><td>5/15/2020 0:00</td><td>1</td><td>1</td></tr><tr><td>BR0081</td><td>DLR0076</td><td>Nis-M263</td><td>2354637</td><td>3</td><td>DT01232</td><td>5</td><td>2020</td><td>Ariel Motors</td><td>Healey Motors</td><td>Nissan</td><td>5/16/2020 0:00</td><td>1</td><td>1</td></tr><tr><td>BR0131</td><td>DLR0081</td><td>Nis-M268</td><td>28034733</td><td>3</td><td>DT01237</td><td>5</td><td>2020</td><td>Audi Motors</td><td>Holden Motors</td><td>Nissan</td><td>5/21/2020 0:00</td><td>1</td><td>1</td></tr><tr><td>BR0151</td><td>DLR0083</td><td>Nis-M270</td><td>25901364</td><td>3</td><td>DT01239</td><td>5</td><td>2020</td><td>Auto-Union Motors</td><td>Honda India Motors</td><td>Nissan</td><td>5/23/2020 0:00</td><td>1</td><td>1</td></tr><tr><td>BR0191</td><td>DLR0087</td><td>Sko-M274</td><td>24183663</td><td>3</td><td>DT01243</td><td>5</td><td>2020</td><td>BMW Motors</td><td>Hyundai Motors</td><td>Skoda</td><td>5/27/2020 0:00</td><td>1</td><td>1</td></tr><tr><td>BR0221</td><td>DLR0090</td><td>Mit-M277</td><td>24243636</td><td>3</td><td>DT01246</td><td>5</td><td>2020</td><td>Bristol Motors</td><td>null</td><td>Mitsubishi</td><td>5/30/2020 0:00</td><td>1</td><td>1</td></tr><tr><td>BR0306</td><td>DLR0173</td><td>Toy-M133</td><td>12612492</td><td>3</td><td>DT01241</td><td>5</td><td>2020</td><td>Alvis Motors</td><td>Santa Matilde Motors</td><td>Toyota</td><td>5/25/2020 0:00</td><td>1</td><td>1</td></tr><tr><td>BR0606</td><td>DLR0178</td><td>Mar-M138</td><td>14029425</td><td>3</td><td>DT01246</td><td>5</td><td>2020</td><td>Artega Motors</td><td>Shelby SuperCars Motors</td><td>Maruti Suzuki</td><td>5/30/2020 0:00</td><td>1</td><td>1</td></tr><tr><td>BR0031</td><td>DLR0071</td><td>Vol-M258</td><td>10067596</td><td>2</td><td>DT01227</td><td>5</td><td>2020</td><td>Alfa Romeo Motors</td><td>Ginetta Motors</td><td>Volkswagen</td><td>5/11/2020 0:00</td><td>2</td><td>12</td></tr><tr><td>BR0041</td><td>DLR0072</td><td>Vol-M259</td><td>13055810</td><td>2</td><td>DT01228</td><td>5</td><td>2020</td><td>Alpine Motors</td><td>Glas Motors</td><td>Volkswagen</td><td>5/12/2020 0:00</td><td>2</td><td>12</td></tr><tr><td>BR0121</td><td>DLR0080</td><td>Nis-M267</td><td>5421046</td><td>2</td><td>DT01236</td><td>5</td><td>2020</td><td>Aston Martin Motors</td><td>Hindustan Motors</td><td>Nissan</td><td>5/20/2020 0:00</td><td>2</td><td>12</td></tr><tr><td>BR0126</td><td>DLR0170</td><td>Ren-M130</td><td>8445560</td><td>2</td><td>DT01238</td><td>5</td><td>2020</td><td>Aixam-Mega (including Arola) Motors</td><td>Saleen Motors</td><td>Renault</td><td>5/22/2020 0:00</td><td>2</td><td>12</td></tr><tr><td>BR0141</td><td>DLR0082</td><td>Nis-M269</td><td>17522592</td><td>2</td><td>DT01238</td><td>5</td><td>2020</td><td>Autobianchi Motors</td><td>Honda Motors</td><td>Nissan</td><td>5/22/2020 0:00</td><td>2</td><td>12</td></tr><tr><td>BR0201</td><td>DLR0088</td><td>Mit-M275</td><td>847952</td><td>2</td><td>DT01244</td><td>5</td><td>2020</td><td>Bond Motors</td><td>IFA (including Trabant, Wartburg, Barkas) Motors</td><td>Mitsubishi</td><td>5/28/2020 0:00</td><td>2</td><td>12</td></tr><tr><td>BR0546</td><td>DLR0177</td><td>Mar-M137</td><td>11543998</td><td>2</td><td>DT01245</td><td>5</td><td>2020</td><td>ARO Motors</td><td>Seat Motors</td><td>Maruti Suzuki</td><td>5/29/2020 0:00</td><td>2</td><td>12</td></tr><tr><td>BR0666</td><td>DLR0179</td><td>Mar-M139</td><td>16170344</td><td>2</td><td>DT01247</td><td>5</td><td>2020</td><td>Asia Motors Motors</td><td>Simca Motors</td><td>Maruti Suzuki</td><td>5/31/2020 0:00</td><td>2</td><td>12</td></tr><tr><td>BR0021</td><td>DLR0070</td><td>Vol-M257</td><td>7738896</td><td>1</td><td>DT01226</td><td>5</td><td>2020</td><td>Aixam-Mega (including Arola) Motors</td><td>Gilbern Motors</td><td>Volkswagen</td><td>5/10/2020 0:00</td><td>3</td><td>20</td></tr><tr><td>BR0051</td><td>DLR0073</td><td>Vol-M260</td><td>2224368</td><td>1</td><td>DT01229</td><td>5</td><td>2020</td><td>Alvis Motors</td><td>GMC Motors</td><td>Volkswagen</td><td>5/13/2020 0:00</td><td>3</td><td>20</td></tr><tr><td>BR0066</td><td>DLR0169</td><td>Ren-M129</td><td>693559</td><td>1</td><td>DT01237</td><td>5</td><td>2020</td><td>Acura Motors</td><td>SAIC Motor Motors</td><td>Renault</td><td>5/21/2020 0:00</td><td>3</td><td>20</td></tr><tr><td>BR0181</td><td>DLR0086</td><td>Sko-M273</td><td>7915343</td><td>1</td><td>DT01242</td><td>5</td><td>2020</td><td>Bitter Motors</td><td>Hummer Motors</td><td>Skoda</td><td>5/26/2020 0:00</td><td>3</td><td>20</td></tr><tr><td>BR0186</td><td>DLR0171</td><td>Ren-M131</td><td>7078128</td><td>1</td><td>DT01239</td><td>5</td><td>2020</td><td>Alfa Romeo Motors</td><td>Samsung Motors</td><td>Renault</td><td>5/23/2020 0:00</td><td>3</td><td>20</td></tr><tr><td>BR0211</td><td>DLR0089</td><td>Mit-M276</td><td>2887860</td><td>1</td><td>DT01245</td><td>5</td><td>2020</td><td>Borgward (including Goliath and Lloyd) Motors</td><td>Infiniti Motors</td><td>Mitsubishi</td><td>5/29/2020 0:00</td><td>3</td><td>20</td></tr><tr><td>BR0426</td><td>DLR0175</td><td>Vol-M135</td><td>7718804</td><td>1</td><td>DT01243</td><td>5</td><td>2020</td><td>Anadol Motors</td><td>Saturn Motors</td><td>Volkswagen</td><td>5/27/2020 0:00</td><td>3</td><td>20</td></tr><tr><td>BR0486</td><td>DLR0176</td><td>Vol-M136</td><td>9950264</td><td>1</td><td>DT01244</td><td>5</td><td>2020</td><td>Ariel Motors</td><td>Scion Motors</td><td>Volkswagen</td><td>5/28/2020 0:00</td><td>3</td><td>20</td></tr></tbody></table></div>"
      ]
     },
     "metadata": {
      "application/vnd.databricks.v1+output": {
       "addedWidgets": {},
       "aggData": [],
       "aggError": "",
       "aggOverflow": false,
       "aggSchema": [],
       "aggSeriesLimitReached": false,
       "aggType": "",
       "arguments": {},
       "columnCustomDisplayInfos": {},
       "data": [
        [
         "BR1105",
         "DLR0031",
         "Nis-M268",
         2349414,
         3,
         "DT01099",
         1,
         2020,
         "Lotus Motors",
         "Caterham Motors",
         "Nissan",
         "1/4/2020 0:00",
         1,
         1
        ],
        [
         "BR1175",
         "DLR0038",
         "Mit-M275",
         6379479,
         3,
         "DT01106",
         1,
         2020,
         "Maruti Motors",
         "Cizeta-Moroder Motors",
         "Mitsubishi",
         "1/11/2020 0:00",
         1,
         1
        ],
        [
         "BR1205",
         "DLR0041",
         "BMW-M1",
         20119176,
         3,
         "DT01109",
         1,
         2020,
         "Matra (including Deutsch-Bonnet, René Bonnet) Motors",
         "DAF Motors",
         "BMW",
         "1/14/2020 0:00",
         1,
         1
        ],
        [
         "BR1215",
         "DLR0042",
         "BMW-M2",
         12564672,
         3,
         "DT01110",
         1,
         2020,
         "Mazda Motors",
         "Daihatsu Motors",
         "BMW",
         "1/15/2020 0:00",
         1,
         1
        ],
        [
         "BR1270",
         "DLR0214",
         "Toy-M134",
         22982112,
         3,
         "DT01103",
         1,
         2020,
         "Merkur Motors",
         "Horch Motors",
         "Toyota",
         "1/8/2020 0:00",
         1,
         1
        ],
        [
         "BR1290",
         "DLR0216",
         "Vol-M136",
         19641387,
         3,
         "DT01105",
         1,
         2020,
         "Mia Motors",
         "Maybach  Motors",
         "Volkswagen",
         "1/10/2020 0:00",
         1,
         1
        ],
        [
         "BR1300",
         "DLR0217",
         "Mar-M137",
         8749140,
         3,
         "DT01106",
         1,
         2020,
         "Micro Motors",
         "Izh  Motors",
         "Maruti Suzuki",
         "1/11/2020 0:00",
         1,
         1
        ],
        [
         "BR1305",
         "DLR0051",
         "Jee-M11",
         4375707,
         3,
         "DT01119",
         1,
         2020,
         "Mini Motors",
         "Edsel Motors",
         "Jeep",
         "1/24/2020 0:00",
         1,
         1
        ],
        [
         "BR1315",
         "DLR0052",
         "Jee-M12",
         6981696,
         3,
         "DT01120",
         1,
         2020,
         "Mitsubishi Motors",
         "e.GO Mobile Motors",
         "Jeep",
         "1/25/2020 0:00",
         1,
         1
        ],
        [
         "BR1370",
         "DLR0224",
         "Mar-M144",
         22596384,
         3,
         "DT01113",
         1,
         2020,
         "Nash Motors",
         "Standard  Motors",
         "Maruti Suzuki",
         "1/18/2020 0:00",
         1,
         1
        ],
        [
         "BR1380",
         "DLR0225",
         "Mar-M145",
         5143059,
         3,
         "DT01114",
         1,
         2020,
         "Naza Motors",
         "Talbot  Motors",
         "Maruti Suzuki",
         "1/19/2020 0:00",
         1,
         1
        ],
        [
         "BR1410",
         "DLR0228",
         "Mar-M148",
         22715907,
         3,
         "DT01117",
         1,
         2020,
         "Noble Motors",
         "Deccan Motors",
         "Maruti Suzuki",
         "1/22/2020 0:00",
         1,
         1
        ],
        [
         "BR1440",
         "DLR0231",
         "Mar-M151",
         12650379,
         3,
         "DT01120",
         1,
         2020,
         "Oltcit Motors",
         "Atlantic Motor Company",
         "Maruti Suzuki",
         "1/25/2020 0:00",
         1,
         1
        ],
        [
         "BR1450",
         "DLR0232",
         "Mar-M152",
         19474533,
         3,
         "DT01121",
         1,
         2020,
         "Opel Motors",
         "2008 NRHP-listed",
         "Maruti Suzuki",
         "1/26/2020 0:00",
         1,
         1
        ],
        [
         "BR1125",
         "DLR0033",
         "Nis-M270",
         5501066,
         2,
         "DT01101",
         1,
         2020,
         "LuAZ Motors",
         "Chevrolet Motors",
         "Nissan",
         "1/6/2020 0:00",
         2,
         15
        ],
        [
         "BR1135",
         "DLR0034",
         "Sko-M271",
         15299630,
         2,
         "DT01102",
         1,
         2020,
         "Lynx Motors",
         "Chevrolet India Motors",
         "Skoda",
         "1/7/2020 0:00",
         2,
         15
        ],
        [
         "BR1155",
         "DLR0036",
         "Sko-M273",
         6991308,
         2,
         "DT01104",
         1,
         2020,
         "Marcos Motors",
         "Chrysler Europe Motors",
         "Skoda",
         "1/9/2020 0:00",
         2,
         15
        ],
        [
         "BR1195",
         "DLR0040",
         "Mit-M277",
         12731434,
         2,
         "DT01108",
         1,
         2020,
         "Mastretta Motors",
         "Daewoo, Saehan, Chevrolet Korea Motors",
         "Mitsubishi",
         "1/13/2020 0:00",
         2,
         15
        ],
        [
         "BR1210",
         "DLR0208",
         "Ren-M128",
         9250976,
         2,
         "DT01097",
         1,
         2020,
         "Matra (including Deutsch-Bonnet, René Bonnet) Motors",
         "Wiesmann Motors",
         "Renault",
         "1/2/2020 0:00",
         2,
         15
        ],
        [
         "BR1230",
         "DLR0210",
         "Ren-M130",
         16850778,
         2,
         "DT01099",
         1,
         2020,
         "Mazzanti Motors",
         "ZAZ Motors",
         "Renault",
         "1/4/2020 0:00",
         2,
         15
        ],
        [
         "BR1235",
         "DLR0044",
         "BMW-M4",
         7034814,
         2,
         "DT01112",
         1,
         2020,
         "McLaren Motors",
         null,
         "BMW",
         "1/17/2020 0:00",
         2,
         15
        ],
        [
         "BR1255",
         "DLR0046",
         "Mer-M6",
         4815214,
         2,
         "DT01114",
         1,
         2020,
         "Mercury Motors",
         "DeLorean Motors",
         "Mercedes-Benz",
         "1/19/2020 0:00",
         2,
         15
        ],
        [
         "BR1295",
         "DLR0050",
         "Jee-M10",
         14558850,
         2,
         "DT01118",
         1,
         2020,
         "Micro Motors",
         "Donkervoort Motors",
         "Jeep",
         "1/23/2020 0:00",
         2,
         15
        ],
        [
         "BR1320",
         "DLR0219",
         "Mar-M139",
         15720604,
         2,
         "DT01108",
         1,
         2020,
         "Mitsubishi Motors",
         "MG  Motors",
         "Maruti Suzuki",
         "1/13/2020 0:00",
         2,
         15
        ],
        [
         "BR1325",
         "DLR0053",
         "Jee-M13",
         11820578,
         2,
         "DT01121",
         1,
         2020,
         "Monica Motors",
         "Eicher Polaris Motors",
         "Jeep",
         "1/26/2020 0:00",
         2,
         15
        ],
        [
         "BR1330",
         "DLR0220",
         "Mar-M140",
         4505054,
         2,
         "DT01109",
         1,
         2020,
         "Monica Motors",
         "Morris  Motors",
         "Maruti Suzuki",
         "1/14/2020 0:00",
         2,
         15
        ],
        [
         "BR1360",
         "DLR0223",
         "Mar-M143",
         10719476,
         2,
         "DT01112",
         1,
         2020,
         "Moskwitch Motors",
         "Wolseley  Motors",
         "Maruti Suzuki",
         "1/17/2020 0:00",
         2,
         15
        ],
        [
         "BR1390",
         "DLR0226",
         "Mar-M146",
         18375622,
         2,
         "DT01115",
         1,
         2020,
         "Nissan Motors",
         "Das Motors",
         "Maruti Suzuki",
         "1/20/2020 0:00",
         2,
         15
        ],
        [
         "BR1460",
         "DLR0233",
         "Hyu-M153",
         5377184,
         2,
         "DT01122",
         1,
         2020,
         "Packard Motors",
         "Blankinship Motor Company Building",
         "Hyundai",
         "1/27/2020 0:00",
         2,
         15
        ],
        [
         "BR1480",
         "DLR0235",
         "Hyu-M155",
         16603584,
         2,
         "DT01124",
         1,
         2020,
         "Panhard Motors",
         "Buick Automobile Company Building",
         "Hyundai",
         "1/29/2020 0:00",
         2,
         15
        ],
        [
         "BR1075",
         "DLR0028",
         "Nis-M265",
         946626,
         1,
         "DT01096",
         1,
         2020,
         "Lexus Motors",
         "Buick Motors",
         "Nissan",
         "1/1/2020 0:00",
         3,
         31
        ],
        [
         "BR1145",
         "DLR0035",
         "Sko-M272",
         573260,
         1,
         "DT01103",
         1,
         2020,
         "Mahindra Motors",
         "Chrysler Motors",
         "Skoda",
         "1/8/2020 0:00",
         3,
         31
        ],
        [
         "BR1165",
         "DLR0037",
         "Sko-M274",
         4594208,
         1,
         "DT01105",
         1,
         2020,
         "Marlin Motors",
         "Citroën Motors",
         "Skoda",
         "1/10/2020 0:00",
         3,
         31
        ],
        [
         "BR1200",
         "DLR0207",
         "Ren-M127",
         5217794,
         1,
         "DT01096",
         1,
         2020,
         "Mastretta Motors",
         "Westfield Motors",
         "Renault",
         "1/1/2020 0:00",
         3,
         31
        ],
        [
         "BR1220",
         "DLR0209",
         "Ren-M129",
         3678913,
         1,
         "DT01098",
         1,
         2020,
         "Mazda Motors",
         "Zastava Motors",
         "Renault",
         "1/3/2020 0:00",
         3,
         31
        ],
        [
         "BR1240",
         "DLR0211",
         "Ren-M131",
         2717264,
         1,
         "DT01100",
         1,
         2020,
         "McLaren Motors",
         "ZIL Motors",
         "Renault",
         "1/5/2020 0:00",
         3,
         31
        ],
        [
         "BR1245",
         "DLR0045",
         "BMW-M5",
         3141089,
         1,
         "DT01113",
         1,
         2020,
         "Mercedes-Benz (including Maybach) Motors",
         "Delahaye Motors",
         "BMW",
         "1/18/2020 0:00",
         3,
         31
        ],
        [
         "BR1275",
         "DLR0048",
         "Mer-M8",
         1681622,
         1,
         "DT01116",
         1,
         2020,
         "Messerschmitt Motors",
         "De Tomaso Motors",
         "Mercedes-Benz",
         "1/21/2020 0:00",
         3,
         31
        ],
        [
         "BR1310",
         "DLR0218",
         "Mar-M138",
         1791030,
         1,
         "DT01107",
         1,
         2020,
         "Mini Motors",
         "Lagonda  Motors",
         "Maruti Suzuki",
         "1/12/2020 0:00",
         3,
         31
        ],
        [
         "BR1340",
         "DLR0221",
         "Mar-M141",
         7636791,
         1,
         "DT01110",
         1,
         2020,
         "Monteverdi Motors",
         "Austin  Motors",
         "Maruti Suzuki",
         "1/15/2020 0:00",
         3,
         31
        ],
        [
         "BR1365",
         "DLR0057",
         "For-M17",
         1729269,
         1,
         "DT01125",
         1,
         2020,
         "Nash Motors",
         "Fiat Motors",
         "Ford",
         "1/30/2020 0:00",
         3,
         31
        ],
        [
         "BR1420",
         "DLR0229",
         "Mar-M149",
         3362029,
         1,
         "DT01118",
         1,
         2020,
         "NSU Motors",
         "Herald Motors",
         "Maruti Suzuki",
         "1/23/2020 0:00",
         3,
         31
        ],
        [
         "BR1425",
         "DLR0063",
         "For-M23",
         19571838,
         3,
         "DT01131",
         2,
         2020,
         "Oldsmobile Motors",
         "Ford do Brasil Motors",
         "Ford",
         "2/5/2020 0:00",
         1,
         1
        ],
        [
         "BR1510",
         "DLR0238",
         "Hyu-M158",
         21888990,
         3,
         "DT01127",
         2,
         2020,
         "Peel Motors",
         "Cass Motor Sales",
         "Hyundai",
         "2/1/2020 0:00",
         1,
         1
        ],
        [
         "BR1515",
         "DLR0072",
         "Cad-M32",
         14614923,
         3,
         "DT01140",
         2,
         2020,
         "Perodua Motors",
         "Glas Motors",
         "Cadillac",
         "2/14/2020 0:00",
         1,
         1
        ],
        [
         "BR1520",
         "DLR0239",
         "Hyu-M159",
         28839432,
         3,
         "DT01128",
         2,
         2020,
         "Perodua Motors",
         "Claremore Auto Dealership",
         "Hyundai",
         "2/2/2020 0:00",
         1,
         1
        ],
        [
         "BR1530",
         "DLR0240",
         "Hyu-M160",
         4257825,
         3,
         "DT01129",
         2,
         2020,
         "Peugeot Motors",
         "Clemens Automobile Company Building",
         "Hyundai",
         "2/3/2020 0:00",
         1,
         1
        ],
        [
         "BR1540",
         "DLR0241",
         "Hyu-M161",
         19956204,
         3,
         "DT01130",
         2,
         2020,
         "PGO Motors",
         "Colman Automotive Building",
         "Hyundai",
         "2/4/2020 0:00",
         1,
         1
        ],
        [
         "BR1555",
         "DLR0076",
         "Cad-M36",
         20868240,
         3,
         "DT01144",
         2,
         2020,
         "Plymouth Motors",
         "Healey Motors",
         "Cadillac",
         "2/18/2020 0:00",
         1,
         1
        ],
        [
         "BR1560",
         "DLR0243",
         "Hyu-M163",
         9443751,
         3,
         "DT01132",
         2,
         2020,
         "Plymouth Motors",
         "Howard Motor Company Building",
         "Hyundai",
         "2/6/2020 0:00",
         1,
         1
        ],
        [
         "BR1565",
         "DLR0077",
         "Cad-M37",
         14383581,
         3,
         "DT01145",
         2,
         2020,
         "Polestar Motors",
         "Heinkel Motors",
         "Cadillac",
         "2/19/2020 0:00",
         1,
         1
        ],
        [
         "BR1395",
         "DLR0060",
         "For-M20",
         3826662,
         2,
         "DT01128",
         2,
         2020,
         "Nissan India Motors",
         "Fisker, Karma Motors",
         "Ford",
         "2/2/2020 0:00",
         2,
         10
        ],
        [
         "BR1445",
         "DLR0065",
         "For-M25",
         17788070,
         2,
         "DT01133",
         2,
         2020,
         "Opel Motors",
         "Ford India Motors",
         "Ford",
         "2/7/2020 0:00",
         2,
         10
        ],
        [
         "BR1455",
         "DLR0066",
         "For-M26",
         5109932,
         2,
         "DT01134",
         2,
         2020,
         "Packard Motors",
         "Freightliner Motors",
         "Ford",
         "2/8/2020 0:00",
         2,
         10
        ],
        [
         "BR1465",
         "DLR0067",
         "Lin-M27",
         756130,
         2,
         "DT01135",
         2,
         2020,
         "Pagani Motors",
         "FSO Motors",
         "Lincoln",
         "2/9/2020 0:00",
         2,
         10
        ],
        [
         "BR1475",
         "DLR0068",
         "Lin-M28",
         14722240,
         2,
         "DT01136",
         2,
         2020,
         "Panhard Motors",
         "GAZ Motors",
         "Lincoln",
         "2/10/2020 0:00",
         2,
         10
        ],
        [
         "BR1545",
         "DLR0075",
         "Cad-M35",
         11312878,
         2,
         "DT01143",
         2,
         2020,
         "Piaggio Motors",
         "Gumpert Motors",
         "Cadillac",
         "2/17/2020 0:00",
         2,
         10
        ],
        [
         "BR1570",
         "DLR0244",
         "Hyu-M164",
         12224948,
         2,
         "DT01133",
         2,
         2020,
         "Polestar Motors",
         "Hupmobile Building",
         "Hyundai",
         "2/7/2020 0:00",
         2,
         10
        ],
        [
         "BR1405",
         "DLR0061",
         "For-M21",
         8119439,
         1,
         "DT01129",
         2,
         2020,
         "Noble Motors",
         "Ford America Motors",
         "Ford",
         "2/3/2020 0:00",
         3,
         17
        ],
        [
         "BR1435",
         "DLR0064",
         "For-M24",
         8184657,
         1,
         "DT01132",
         2,
         2020,
         "Oltcit Motors",
         "Ford Europe Motors",
         "Ford",
         "2/6/2020 0:00",
         3,
         17
        ],
        [
         "BR1485",
         "DLR0069",
         "Lin-M29",
         6430716,
         1,
         "DT01137",
         2,
         2020,
         "Panoz Motors",
         "Geo Motors",
         "Lincoln",
         "2/11/2020 0:00",
         3,
         17
        ],
        [
         "BR1495",
         "DLR0070",
         "Lin-M30",
         3396415,
         1,
         "DT01138",
         2,
         2020,
         "Panther Motors",
         "Gilbern Motors",
         "Lincoln",
         "2/12/2020 0:00",
         3,
         17
        ],
        [
         "BR1525",
         "DLR0073",
         "Cad-M33",
         5345219,
         1,
         "DT01141",
         2,
         2020,
         "Peugeot Motors",
         "GMC Motors",
         "Cadillac",
         "2/15/2020 0:00",
         3,
         17
        ],
        [
         "BR1575",
         "DLR0078",
         "Cad-M38",
         8234393,
         1,
         "DT01146",
         2,
         2020,
         "Pontiac, Asüna Motors",
         "Hennessey Motors",
         "Cadillac",
         "2/20/2020 0:00",
         3,
         17
        ],
        [
         "BR1585",
         "DLR0079",
         "Cad-M39",
         2785750,
         1,
         "DT01147",
         2,
         2020,
         "Porsche Motors",
         "Hillman Motors",
         "Cadillac",
         "2/21/2020 0:00",
         3,
         17
        ],
        [
         "BR1590",
         "DLR0246",
         "Mah-M166",
         4431368,
         1,
         "DT01135",
         2,
         2020,
         "Porsche Motors",
         "Jones Motor Company",
         "Mahindra",
         "2/9/2020 0:00",
         3,
         17
        ],
        [
         "BR1595",
         "DLR0080",
         "Che-M40",
         7968813,
         1,
         "DT01148",
         2,
         2020,
         "Premier Motors",
         "Hindustan Motors",
         "Chevrolet",
         "2/22/2020 0:00",
         3,
         17
        ],
        [
         "BR1600",
         "DLR0247",
         "Mah-M167",
         112246,
         1,
         "DT01136",
         2,
         2020,
         "Premier Motors",
         "Kindel Building",
         "Mahindra",
         "2/10/2020 0:00",
         3,
         17
        ],
        [
         "BR0006",
         "DLR0168",
         "Ren-M128",
         12971088,
         3,
         "DT01236",
         5,
         2020,
         "AC Cars Motors",
         "Saab Motors",
         "Renault",
         "5/20/2020 0:00",
         1,
         1
        ],
        [
         "BR0011",
         "DLR0069",
         "Vol-M256",
         14181510,
         3,
         "DT01225",
         5,
         2020,
         "Acura Motors",
         "Geo Motors",
         "Volkswagen",
         "5/9/2020 0:00",
         1,
         1
        ],
        [
         "BR0061",
         "DLR0074",
         "Nis-M261",
         11270580,
         3,
         "DT01230",
         5,
         2020,
         "AMC, Eagle Motors",
         "GTA Spano Motors",
         "Nissan",
         "5/14/2020 0:00",
         1,
         1
        ],
        [
         "BR0071",
         "DLR0075",
         "Nis-M262",
         18784710,
         3,
         "DT01231",
         5,
         2020,
         "Anadol Motors",
         "Gumpert Motors",
         "Nissan",
         "5/15/2020 0:00",
         1,
         1
        ],
        [
         "BR0081",
         "DLR0076",
         "Nis-M263",
         2354637,
         3,
         "DT01232",
         5,
         2020,
         "Ariel Motors",
         "Healey Motors",
         "Nissan",
         "5/16/2020 0:00",
         1,
         1
        ],
        [
         "BR0131",
         "DLR0081",
         "Nis-M268",
         28034733,
         3,
         "DT01237",
         5,
         2020,
         "Audi Motors",
         "Holden Motors",
         "Nissan",
         "5/21/2020 0:00",
         1,
         1
        ],
        [
         "BR0151",
         "DLR0083",
         "Nis-M270",
         25901364,
         3,
         "DT01239",
         5,
         2020,
         "Auto-Union Motors",
         "Honda India Motors",
         "Nissan",
         "5/23/2020 0:00",
         1,
         1
        ],
        [
         "BR0191",
         "DLR0087",
         "Sko-M274",
         24183663,
         3,
         "DT01243",
         5,
         2020,
         "BMW Motors",
         "Hyundai Motors",
         "Skoda",
         "5/27/2020 0:00",
         1,
         1
        ],
        [
         "BR0221",
         "DLR0090",
         "Mit-M277",
         24243636,
         3,
         "DT01246",
         5,
         2020,
         "Bristol Motors",
         null,
         "Mitsubishi",
         "5/30/2020 0:00",
         1,
         1
        ],
        [
         "BR0306",
         "DLR0173",
         "Toy-M133",
         12612492,
         3,
         "DT01241",
         5,
         2020,
         "Alvis Motors",
         "Santa Matilde Motors",
         "Toyota",
         "5/25/2020 0:00",
         1,
         1
        ],
        [
         "BR0606",
         "DLR0178",
         "Mar-M138",
         14029425,
         3,
         "DT01246",
         5,
         2020,
         "Artega Motors",
         "Shelby SuperCars Motors",
         "Maruti Suzuki",
         "5/30/2020 0:00",
         1,
         1
        ],
        [
         "BR0031",
         "DLR0071",
         "Vol-M258",
         10067596,
         2,
         "DT01227",
         5,
         2020,
         "Alfa Romeo Motors",
         "Ginetta Motors",
         "Volkswagen",
         "5/11/2020 0:00",
         2,
         12
        ],
        [
         "BR0041",
         "DLR0072",
         "Vol-M259",
         13055810,
         2,
         "DT01228",
         5,
         2020,
         "Alpine Motors",
         "Glas Motors",
         "Volkswagen",
         "5/12/2020 0:00",
         2,
         12
        ],
        [
         "BR0121",
         "DLR0080",
         "Nis-M267",
         5421046,
         2,
         "DT01236",
         5,
         2020,
         "Aston Martin Motors",
         "Hindustan Motors",
         "Nissan",
         "5/20/2020 0:00",
         2,
         12
        ],
        [
         "BR0126",
         "DLR0170",
         "Ren-M130",
         8445560,
         2,
         "DT01238",
         5,
         2020,
         "Aixam-Mega (including Arola) Motors",
         "Saleen Motors",
         "Renault",
         "5/22/2020 0:00",
         2,
         12
        ],
        [
         "BR0141",
         "DLR0082",
         "Nis-M269",
         17522592,
         2,
         "DT01238",
         5,
         2020,
         "Autobianchi Motors",
         "Honda Motors",
         "Nissan",
         "5/22/2020 0:00",
         2,
         12
        ],
        [
         "BR0201",
         "DLR0088",
         "Mit-M275",
         847952,
         2,
         "DT01244",
         5,
         2020,
         "Bond Motors",
         "IFA (including Trabant, Wartburg, Barkas) Motors",
         "Mitsubishi",
         "5/28/2020 0:00",
         2,
         12
        ],
        [
         "BR0546",
         "DLR0177",
         "Mar-M137",
         11543998,
         2,
         "DT01245",
         5,
         2020,
         "ARO Motors",
         "Seat Motors",
         "Maruti Suzuki",
         "5/29/2020 0:00",
         2,
         12
        ],
        [
         "BR0666",
         "DLR0179",
         "Mar-M139",
         16170344,
         2,
         "DT01247",
         5,
         2020,
         "Asia Motors Motors",
         "Simca Motors",
         "Maruti Suzuki",
         "5/31/2020 0:00",
         2,
         12
        ],
        [
         "BR0021",
         "DLR0070",
         "Vol-M257",
         7738896,
         1,
         "DT01226",
         5,
         2020,
         "Aixam-Mega (including Arola) Motors",
         "Gilbern Motors",
         "Volkswagen",
         "5/10/2020 0:00",
         3,
         20
        ],
        [
         "BR0051",
         "DLR0073",
         "Vol-M260",
         2224368,
         1,
         "DT01229",
         5,
         2020,
         "Alvis Motors",
         "GMC Motors",
         "Volkswagen",
         "5/13/2020 0:00",
         3,
         20
        ],
        [
         "BR0066",
         "DLR0169",
         "Ren-M129",
         693559,
         1,
         "DT01237",
         5,
         2020,
         "Acura Motors",
         "SAIC Motor Motors",
         "Renault",
         "5/21/2020 0:00",
         3,
         20
        ],
        [
         "BR0181",
         "DLR0086",
         "Sko-M273",
         7915343,
         1,
         "DT01242",
         5,
         2020,
         "Bitter Motors",
         "Hummer Motors",
         "Skoda",
         "5/26/2020 0:00",
         3,
         20
        ],
        [
         "BR0186",
         "DLR0171",
         "Ren-M131",
         7078128,
         1,
         "DT01239",
         5,
         2020,
         "Alfa Romeo Motors",
         "Samsung Motors",
         "Renault",
         "5/23/2020 0:00",
         3,
         20
        ],
        [
         "BR0211",
         "DLR0089",
         "Mit-M276",
         2887860,
         1,
         "DT01245",
         5,
         2020,
         "Borgward (including Goliath and Lloyd) Motors",
         "Infiniti Motors",
         "Mitsubishi",
         "5/29/2020 0:00",
         3,
         20
        ],
        [
         "BR0426",
         "DLR0175",
         "Vol-M135",
         7718804,
         1,
         "DT01243",
         5,
         2020,
         "Anadol Motors",
         "Saturn Motors",
         "Volkswagen",
         "5/27/2020 0:00",
         3,
         20
        ],
        [
         "BR0486",
         "DLR0176",
         "Vol-M136",
         9950264,
         1,
         "DT01244",
         5,
         2020,
         "Ariel Motors",
         "Scion Motors",
         "Volkswagen",
         "5/28/2020 0:00",
         3,
         20
        ]
       ],
       "datasetInfos": [],
       "dbfsResultPath": null,
       "isJsonSchema": true,
       "metadata": {},
       "overflow": false,
       "plotOptions": {
        "customPlotOptions": {},
        "displayType": "table",
        "pivotAggregation": null,
        "pivotColumns": null,
        "xColumns": null,
        "yColumns": null
       },
       "removedWidgets": [],
       "schema": [
        {
         "metadata": "{}",
         "name": "Branch_ID",
         "type": "\"string\""
        },
        {
         "metadata": "{}",
         "name": "Dealer_ID",
         "type": "\"string\""
        },
        {
         "metadata": "{}",
         "name": "Model_ID",
         "type": "\"string\""
        },
        {
         "metadata": "{}",
         "name": "Revenue",
         "type": "\"integer\""
        },
        {
         "metadata": "{}",
         "name": "Units_Sold",
         "type": "\"integer\""
        },
        {
         "metadata": "{}",
         "name": "Date_ID",
         "type": "\"string\""
        },
        {
         "metadata": "{}",
         "name": "Month",
         "type": "\"integer\""
        },
        {
         "metadata": "{}",
         "name": "Year",
         "type": "\"integer\""
        },
        {
         "metadata": "{}",
         "name": "BranchName",
         "type": "\"string\""
        },
        {
         "metadata": "{}",
         "name": "DealerName",
         "type": "\"string\""
        },
        {
         "metadata": "{}",
         "name": "Product_Name",
         "type": "\"string\""
        },
        {
         "metadata": "{}",
         "name": "Date",
         "type": "\"string\""
        },
        {
         "metadata": "{}",
         "name": "dense_rank",
         "type": "\"integer\""
        },
        {
         "metadata": "{}",
         "name": "rank",
         "type": "\"integer\""
        }
       ],
       "type": "table"
      }
     },
     "output_type": "display_data"
    }
   ],
   "source": [
    "result_rank.display()"
   ]
  },
  {
   "cell_type": "code",
   "execution_count": 0,
   "metadata": {
    "application/vnd.databricks.v1+cell": {
     "cellMetadata": {
      "byteLimit": 2048000,
      "rowLimit": 10000
     },
     "inputWidgets": {},
     "nuid": "7ca79712-f9e5-4693-bc12-eeb8e9c7a419",
     "showTitle": true,
     "tableResultSettingsMap": {},
     "title": "inserting new Data Frame"
    }
   },
   "outputs": [],
   "source": [
    "obj.df = result_rank"
   ]
  },
  {
   "cell_type": "code",
   "execution_count": 0,
   "metadata": {
    "application/vnd.databricks.v1+cell": {
     "cellMetadata": {
      "byteLimit": 2048000,
      "rowLimit": 10000
     },
     "inputWidgets": {},
     "nuid": "47430d1e-b3af-4943-867f-fe5e9fef230b",
     "showTitle": true,
     "tableResultSettingsMap": {},
     "title": "Calling a function"
    }
   },
   "outputs": [],
   "source": [
    "result_rank = obj.row_number('row_number','Month','Units_Sold')"
   ]
  },
  {
   "cell_type": "code",
   "execution_count": 0,
   "metadata": {
    "application/vnd.databricks.v1+cell": {
     "cellMetadata": {
      "byteLimit": 2048000,
      "rowLimit": 10000
     },
     "inputWidgets": {},
     "nuid": "bad51595-e341-4468-b077-a6273aa07445",
     "showTitle": true,
     "tableResultSettingsMap": {},
     "title": "Display"
    }
   },
   "outputs": [
    {
     "output_type": "display_data",
     "data": {
      "text/html": [
       "<style scoped>\n",
       "  .table-result-container {\n",
       "    max-height: 300px;\n",
       "    overflow: auto;\n",
       "  }\n",
       "  table, th, td {\n",
       "    border: 1px solid black;\n",
       "    border-collapse: collapse;\n",
       "  }\n",
       "  th, td {\n",
       "    padding: 5px;\n",
       "  }\n",
       "  th {\n",
       "    text-align: left;\n",
       "  }\n",
       "</style><div class='table-result-container'><table class='table-result'><thead style='background-color: white'><tr><th>Branch_ID</th><th>Dealer_ID</th><th>Model_ID</th><th>Revenue</th><th>Units_Sold</th><th>Date_ID</th><th>Month</th><th>Year</th><th>BranchName</th><th>DealerName</th><th>Product_Name</th><th>Date</th><th>dense_rank</th><th>rank</th><th>row_number</th></tr></thead><tbody><tr><td>BR1105</td><td>DLR0031</td><td>Nis-M268</td><td>2349414</td><td>3</td><td>DT01099</td><td>1</td><td>2020</td><td>Lotus Motors</td><td>Caterham Motors</td><td>Nissan</td><td>1/4/2020 0:00</td><td>1</td><td>1</td><td>1</td></tr><tr><td>BR1175</td><td>DLR0038</td><td>Mit-M275</td><td>6379479</td><td>3</td><td>DT01106</td><td>1</td><td>2020</td><td>Maruti Motors</td><td>Cizeta-Moroder Motors</td><td>Mitsubishi</td><td>1/11/2020 0:00</td><td>1</td><td>1</td><td>2</td></tr><tr><td>BR1205</td><td>DLR0041</td><td>BMW-M1</td><td>20119176</td><td>3</td><td>DT01109</td><td>1</td><td>2020</td><td>Matra (including Deutsch-Bonnet, René Bonnet) Motors</td><td>DAF Motors</td><td>BMW</td><td>1/14/2020 0:00</td><td>1</td><td>1</td><td>3</td></tr><tr><td>BR1215</td><td>DLR0042</td><td>BMW-M2</td><td>12564672</td><td>3</td><td>DT01110</td><td>1</td><td>2020</td><td>Mazda Motors</td><td>Daihatsu Motors</td><td>BMW</td><td>1/15/2020 0:00</td><td>1</td><td>1</td><td>4</td></tr><tr><td>BR1270</td><td>DLR0214</td><td>Toy-M134</td><td>22982112</td><td>3</td><td>DT01103</td><td>1</td><td>2020</td><td>Merkur Motors</td><td>Horch Motors</td><td>Toyota</td><td>1/8/2020 0:00</td><td>1</td><td>1</td><td>5</td></tr></tbody></table></div>"
      ]
     },
     "metadata": {
      "application/vnd.databricks.v1+output": {
       "addedWidgets": {},
       "aggData": [],
       "aggError": "",
       "aggOverflow": false,
       "aggSchema": [],
       "aggSeriesLimitReached": false,
       "aggType": "",
       "arguments": {},
       "columnCustomDisplayInfos": {},
       "data": [
        [
         "BR1105",
         "DLR0031",
         "Nis-M268",
         2349414,
         3,
         "DT01099",
         1,
         2020,
         "Lotus Motors",
         "Caterham Motors",
         "Nissan",
         "1/4/2020 0:00",
         1,
         1,
         1
        ],
        [
         "BR1175",
         "DLR0038",
         "Mit-M275",
         6379479,
         3,
         "DT01106",
         1,
         2020,
         "Maruti Motors",
         "Cizeta-Moroder Motors",
         "Mitsubishi",
         "1/11/2020 0:00",
         1,
         1,
         2
        ],
        [
         "BR1205",
         "DLR0041",
         "BMW-M1",
         20119176,
         3,
         "DT01109",
         1,
         2020,
         "Matra (including Deutsch-Bonnet, René Bonnet) Motors",
         "DAF Motors",
         "BMW",
         "1/14/2020 0:00",
         1,
         1,
         3
        ],
        [
         "BR1215",
         "DLR0042",
         "BMW-M2",
         12564672,
         3,
         "DT01110",
         1,
         2020,
         "Mazda Motors",
         "Daihatsu Motors",
         "BMW",
         "1/15/2020 0:00",
         1,
         1,
         4
        ],
        [
         "BR1270",
         "DLR0214",
         "Toy-M134",
         22982112,
         3,
         "DT01103",
         1,
         2020,
         "Merkur Motors",
         "Horch Motors",
         "Toyota",
         "1/8/2020 0:00",
         1,
         1,
         5
        ]
       ],
       "datasetInfos": [],
       "dbfsResultPath": null,
       "isJsonSchema": true,
       "metadata": {},
       "overflow": false,
       "plotOptions": {
        "customPlotOptions": {},
        "displayType": "table",
        "pivotAggregation": null,
        "pivotColumns": null,
        "xColumns": null,
        "yColumns": null
       },
       "removedWidgets": [],
       "schema": [
        {
         "metadata": "{}",
         "name": "Branch_ID",
         "type": "\"string\""
        },
        {
         "metadata": "{}",
         "name": "Dealer_ID",
         "type": "\"string\""
        },
        {
         "metadata": "{}",
         "name": "Model_ID",
         "type": "\"string\""
        },
        {
         "metadata": "{}",
         "name": "Revenue",
         "type": "\"integer\""
        },
        {
         "metadata": "{}",
         "name": "Units_Sold",
         "type": "\"integer\""
        },
        {
         "metadata": "{}",
         "name": "Date_ID",
         "type": "\"string\""
        },
        {
         "metadata": "{}",
         "name": "Month",
         "type": "\"integer\""
        },
        {
         "metadata": "{}",
         "name": "Year",
         "type": "\"integer\""
        },
        {
         "metadata": "{}",
         "name": "BranchName",
         "type": "\"string\""
        },
        {
         "metadata": "{}",
         "name": "DealerName",
         "type": "\"string\""
        },
        {
         "metadata": "{}",
         "name": "Product_Name",
         "type": "\"string\""
        },
        {
         "metadata": "{}",
         "name": "Date",
         "type": "\"string\""
        },
        {
         "metadata": "{}",
         "name": "dense_rank",
         "type": "\"integer\""
        },
        {
         "metadata": "{}",
         "name": "rank",
         "type": "\"integer\""
        },
        {
         "metadata": "{}",
         "name": "row_number",
         "type": "\"integer\""
        }
       ],
       "type": "table"
      }
     },
     "output_type": "display_data"
    }
   ],
   "source": [
    "result_rank.limit(5).display()"
   ]
  },
  {
   "cell_type": "code",
   "execution_count": 0,
   "metadata": {
    "application/vnd.databricks.v1+cell": {
     "cellMetadata": {},
     "inputWidgets": {},
     "nuid": "d3a4b061-f44a-49d5-872c-925a8b2fe364",
     "showTitle": false,
     "tableResultSettingsMap": {},
     "title": ""
    }
   },
   "outputs": [],
   "source": []
  }
 ],
 "metadata": {
  "application/vnd.databricks.v1+notebook": {
   "computePreferences": null,
   "dashboards": [],
   "environmentMetadata": {
    "base_environment": "",
    "environment_version": "1"
   },
   "inputWidgetPreferences": null,
   "language": "python",
   "notebookMetadata": {
    "pythonIndentUnit": 4
   },
   "notebookName": "Class",
   "widgets": {}
  }
 },
 "nbformat": 4,
 "nbformat_minor": 0
}