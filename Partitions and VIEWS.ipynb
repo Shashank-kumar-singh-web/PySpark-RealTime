{
 "cells": [
  {
   "cell_type": "markdown",
   "metadata": {
    "application/vnd.databricks.v1+cell": {
     "cellMetadata": {
      "byteLimit": 2048000,
      "rowLimit": 10000
     },
     "inputWidgets": {},
     "nuid": "62090531-d89f-4035-ae16-c463c273c26a",
     "showTitle": false,
     "tableResultSettingsMap": {},
     "title": ""
    }
   },
   "source": [
    "### Partitions "
   ]
  },
  {
   "cell_type": "code",
   "execution_count": 0,
   "metadata": {
    "application/vnd.databricks.v1+cell": {
     "cellMetadata": {
      "byteLimit": 2048000,
      "rowLimit": 10000
     },
     "inputWidgets": {},
     "nuid": "1a65d874-0668-412f-9c7a-d1f900cb839b",
     "showTitle": false,
     "tableResultSettingsMap": {},
     "title": ""
    }
   },
   "outputs": [],
   "source": [
    "from pyspark.sql.functions import *"
   ]
  },
  {
   "cell_type": "code",
   "execution_count": 0,
   "metadata": {
    "application/vnd.databricks.v1+cell": {
     "cellMetadata": {
      "byteLimit": 2048000,
      "rowLimit": 10000
     },
     "inputWidgets": {},
     "nuid": "3faef852-b650-4088-823d-bc1ff3fa6fa8",
     "showTitle": false,
     "tableResultSettingsMap": {},
     "title": ""
    }
   },
   "outputs": [],
   "source": [
    "df = spark.read.format('csv')\\\n",
    "        .option(\"Header\",True)\\\n",
    "        .option(\"inferschema\",True)\\\n",
    "            .load('/FileStore/RealTime/rawsource/sales_data_first.csv')"
   ]
  },
  {
   "cell_type": "code",
   "execution_count": 0,
   "metadata": {
    "application/vnd.databricks.v1+cell": {
     "cellMetadata": {
      "byteLimit": 2048000,
      "rowLimit": 10000
     },
     "inputWidgets": {},
     "nuid": "7377facb-1aec-4a9b-acce-8d0a4a4dd5d6",
     "showTitle": false,
     "tableResultSettingsMap": {},
     "title": ""
    }
   },
   "outputs": [
    {
     "output_type": "display_data",
     "data": {
      "text/html": [
       "<style scoped>\n",
       "  .table-result-container {\n",
       "    max-height: 300px;\n",
       "    overflow: auto;\n",
       "  }\n",
       "  table, th, td {\n",
       "    border: 1px solid black;\n",
       "    border-collapse: collapse;\n",
       "  }\n",
       "  th, td {\n",
       "    padding: 5px;\n",
       "  }\n",
       "  th {\n",
       "    text-align: left;\n",
       "  }\n",
       "</style><div class='table-result-container'><table class='table-result'><thead style='background-color: white'><tr><th>Branch_ID</th><th>Dealer_ID</th><th>Model_ID</th><th>Revenue</th><th>Units_Sold</th><th>Date_ID</th><th>Month</th><th>Year</th><th>BranchName</th><th>DealerName</th><th>Product_Name</th><th>Date</th><th>Partition_id</th></tr></thead><tbody><tr><td>BR0006</td><td>DLR0168</td><td>Ren-M128</td><td>12971088</td><td>3</td><td>DT01236</td><td>5</td><td>2020</td><td>AC Cars Motors</td><td>Saab Motors</td><td>Renault</td><td>5/20/2020 0:00</td><td>0</td></tr><tr><td>BR0011</td><td>DLR0069</td><td>Vol-M256</td><td>14181510</td><td>3</td><td>DT01225</td><td>5</td><td>2020</td><td>Acura Motors</td><td>Geo Motors</td><td>Volkswagen</td><td>5/9/2020 0:00</td><td>0</td></tr><tr><td>BR0021</td><td>DLR0070</td><td>Vol-M257</td><td>7738896</td><td>1</td><td>DT01226</td><td>5</td><td>2020</td><td>Aixam-Mega (including Arola) Motors</td><td>Gilbern Motors</td><td>Volkswagen</td><td>5/10/2020 0:00</td><td>0</td></tr><tr><td>BR0031</td><td>DLR0071</td><td>Vol-M258</td><td>10067596</td><td>2</td><td>DT01227</td><td>5</td><td>2020</td><td>Alfa Romeo Motors</td><td>Ginetta Motors</td><td>Volkswagen</td><td>5/11/2020 0:00</td><td>0</td></tr><tr><td>BR0041</td><td>DLR0072</td><td>Vol-M259</td><td>13055810</td><td>2</td><td>DT01228</td><td>5</td><td>2020</td><td>Alpine Motors</td><td>Glas Motors</td><td>Volkswagen</td><td>5/12/2020 0:00</td><td>0</td></tr></tbody></table></div>"
      ]
     },
     "metadata": {
      "application/vnd.databricks.v1+output": {
       "addedWidgets": {},
       "aggData": [],
       "aggError": "",
       "aggOverflow": false,
       "aggSchema": [],
       "aggSeriesLimitReached": false,
       "aggType": "",
       "arguments": {},
       "columnCustomDisplayInfos": {},
       "data": [
        [
         "BR0006",
         "DLR0168",
         "Ren-M128",
         12971088,
         3,
         "DT01236",
         5,
         2020,
         "AC Cars Motors",
         "Saab Motors",
         "Renault",
         "5/20/2020 0:00",
         0
        ],
        [
         "BR0011",
         "DLR0069",
         "Vol-M256",
         14181510,
         3,
         "DT01225",
         5,
         2020,
         "Acura Motors",
         "Geo Motors",
         "Volkswagen",
         "5/9/2020 0:00",
         0
        ],
        [
         "BR0021",
         "DLR0070",
         "Vol-M257",
         7738896,
         1,
         "DT01226",
         5,
         2020,
         "Aixam-Mega (including Arola) Motors",
         "Gilbern Motors",
         "Volkswagen",
         "5/10/2020 0:00",
         0
        ],
        [
         "BR0031",
         "DLR0071",
         "Vol-M258",
         10067596,
         2,
         "DT01227",
         5,
         2020,
         "Alfa Romeo Motors",
         "Ginetta Motors",
         "Volkswagen",
         "5/11/2020 0:00",
         0
        ],
        [
         "BR0041",
         "DLR0072",
         "Vol-M259",
         13055810,
         2,
         "DT01228",
         5,
         2020,
         "Alpine Motors",
         "Glas Motors",
         "Volkswagen",
         "5/12/2020 0:00",
         0
        ]
       ],
       "datasetInfos": [],
       "dbfsResultPath": null,
       "isJsonSchema": true,
       "metadata": {},
       "overflow": false,
       "plotOptions": {
        "customPlotOptions": {},
        "displayType": "table",
        "pivotAggregation": null,
        "pivotColumns": null,
        "xColumns": null,
        "yColumns": null
       },
       "removedWidgets": [],
       "schema": [
        {
         "metadata": "{}",
         "name": "Branch_ID",
         "type": "\"string\""
        },
        {
         "metadata": "{}",
         "name": "Dealer_ID",
         "type": "\"string\""
        },
        {
         "metadata": "{}",
         "name": "Model_ID",
         "type": "\"string\""
        },
        {
         "metadata": "{}",
         "name": "Revenue",
         "type": "\"integer\""
        },
        {
         "metadata": "{}",
         "name": "Units_Sold",
         "type": "\"integer\""
        },
        {
         "metadata": "{}",
         "name": "Date_ID",
         "type": "\"string\""
        },
        {
         "metadata": "{}",
         "name": "Month",
         "type": "\"integer\""
        },
        {
         "metadata": "{}",
         "name": "Year",
         "type": "\"integer\""
        },
        {
         "metadata": "{}",
         "name": "BranchName",
         "type": "\"string\""
        },
        {
         "metadata": "{}",
         "name": "DealerName",
         "type": "\"string\""
        },
        {
         "metadata": "{}",
         "name": "Product_Name",
         "type": "\"string\""
        },
        {
         "metadata": "{}",
         "name": "Date",
         "type": "\"string\""
        },
        {
         "metadata": "{}",
         "name": "Partition_id",
         "type": "\"integer\""
        }
       ],
       "type": "table"
      }
     },
     "output_type": "display_data"
    }
   ],
   "source": [
    "df=df.withColumn('Partition_id',spark_partition_id())\n",
    "df.limit(5).display()"
   ]
  },
  {
   "cell_type": "code",
   "execution_count": 0,
   "metadata": {
    "application/vnd.databricks.v1+cell": {
     "cellMetadata": {
      "byteLimit": 2048000,
      "rowLimit": 10000
     },
     "inputWidgets": {},
     "nuid": "6130f742-fc75-45c1-bdbf-5e71c46d47ed",
     "showTitle": false,
     "tableResultSettingsMap": {},
     "title": ""
    }
   },
   "outputs": [],
   "source": [
    "df = df.repartition(4)\n",
    "#default partition happen only after 128MB of data"
   ]
  },
  {
   "cell_type": "code",
   "execution_count": 0,
   "metadata": {
    "application/vnd.databricks.v1+cell": {
     "cellMetadata": {
      "byteLimit": 2048000,
      "rowLimit": 10000
     },
     "inputWidgets": {},
     "nuid": "882f924b-6532-427e-a0f7-4a04a1a79aeb",
     "showTitle": false,
     "tableResultSettingsMap": {},
     "title": ""
    }
   },
   "outputs": [
    {
     "output_type": "display_data",
     "data": {
      "text/html": [
       "<style scoped>\n",
       "  .table-result-container {\n",
       "    max-height: 300px;\n",
       "    overflow: auto;\n",
       "  }\n",
       "  table, th, td {\n",
       "    border: 1px solid black;\n",
       "    border-collapse: collapse;\n",
       "  }\n",
       "  th, td {\n",
       "    padding: 5px;\n",
       "  }\n",
       "  th {\n",
       "    text-align: left;\n",
       "  }\n",
       "</style><div class='table-result-container'><table class='table-result'><thead style='background-color: white'><tr><th>Branch_ID</th><th>Dealer_ID</th><th>Model_ID</th><th>Revenue</th><th>Units_Sold</th><th>Date_ID</th><th>Month</th><th>Year</th><th>BranchName</th><th>DealerName</th><th>Product_Name</th><th>Date</th><th>Partition_id</th><th>New_Partition_id</th></tr></thead><tbody><tr><td>BR0666</td><td>DLR0179</td><td>Mar-M139</td><td>16170344</td><td>2</td><td>DT01247</td><td>5</td><td>2020</td><td>Asia Motors Motors</td><td>Simca Motors</td><td>Maruti Suzuki</td><td>5/31/2020 0:00</td><td>0</td><td>0</td></tr><tr><td>BR1155</td><td>DLR0036</td><td>Sko-M273</td><td>6991308</td><td>2</td><td>DT01104</td><td>1</td><td>2020</td><td>Marcos Motors</td><td>Chrysler Europe Motors</td><td>Skoda</td><td>1/9/2020 0:00</td><td>0</td><td>0</td></tr><tr><td>BR1475</td><td>DLR0068</td><td>Lin-M28</td><td>14722240</td><td>2</td><td>DT01136</td><td>2</td><td>2020</td><td>Panhard Motors</td><td>GAZ Motors</td><td>Lincoln</td><td>2/10/2020 0:00</td><td>0</td><td>0</td></tr><tr><td>BR1465</td><td>DLR0067</td><td>Lin-M27</td><td>756130</td><td>2</td><td>DT01135</td><td>2</td><td>2020</td><td>Pagani Motors</td><td>FSO Motors</td><td>Lincoln</td><td>2/9/2020 0:00</td><td>0</td><td>0</td></tr><tr><td>BR1365</td><td>DLR0057</td><td>For-M17</td><td>1729269</td><td>1</td><td>DT01125</td><td>1</td><td>2020</td><td>Nash Motors</td><td>Fiat Motors</td><td>Ford</td><td>1/30/2020 0:00</td><td>0</td><td>0</td></tr></tbody></table></div>"
      ]
     },
     "metadata": {
      "application/vnd.databricks.v1+output": {
       "addedWidgets": {},
       "aggData": [],
       "aggError": "",
       "aggOverflow": false,
       "aggSchema": [],
       "aggSeriesLimitReached": false,
       "aggType": "",
       "arguments": {},
       "columnCustomDisplayInfos": {},
       "data": [
        [
         "BR0666",
         "DLR0179",
         "Mar-M139",
         16170344,
         2,
         "DT01247",
         5,
         2020,
         "Asia Motors Motors",
         "Simca Motors",
         "Maruti Suzuki",
         "5/31/2020 0:00",
         0,
         0
        ],
        [
         "BR1155",
         "DLR0036",
         "Sko-M273",
         6991308,
         2,
         "DT01104",
         1,
         2020,
         "Marcos Motors",
         "Chrysler Europe Motors",
         "Skoda",
         "1/9/2020 0:00",
         0,
         0
        ],
        [
         "BR1475",
         "DLR0068",
         "Lin-M28",
         14722240,
         2,
         "DT01136",
         2,
         2020,
         "Panhard Motors",
         "GAZ Motors",
         "Lincoln",
         "2/10/2020 0:00",
         0,
         0
        ],
        [
         "BR1465",
         "DLR0067",
         "Lin-M27",
         756130,
         2,
         "DT01135",
         2,
         2020,
         "Pagani Motors",
         "FSO Motors",
         "Lincoln",
         "2/9/2020 0:00",
         0,
         0
        ],
        [
         "BR1365",
         "DLR0057",
         "For-M17",
         1729269,
         1,
         "DT01125",
         1,
         2020,
         "Nash Motors",
         "Fiat Motors",
         "Ford",
         "1/30/2020 0:00",
         0,
         0
        ]
       ],
       "datasetInfos": [],
       "dbfsResultPath": null,
       "isJsonSchema": true,
       "metadata": {},
       "overflow": false,
       "plotOptions": {
        "customPlotOptions": {},
        "displayType": "table",
        "pivotAggregation": null,
        "pivotColumns": null,
        "xColumns": null,
        "yColumns": null
       },
       "removedWidgets": [],
       "schema": [
        {
         "metadata": "{}",
         "name": "Branch_ID",
         "type": "\"string\""
        },
        {
         "metadata": "{}",
         "name": "Dealer_ID",
         "type": "\"string\""
        },
        {
         "metadata": "{}",
         "name": "Model_ID",
         "type": "\"string\""
        },
        {
         "metadata": "{}",
         "name": "Revenue",
         "type": "\"integer\""
        },
        {
         "metadata": "{}",
         "name": "Units_Sold",
         "type": "\"integer\""
        },
        {
         "metadata": "{}",
         "name": "Date_ID",
         "type": "\"string\""
        },
        {
         "metadata": "{}",
         "name": "Month",
         "type": "\"integer\""
        },
        {
         "metadata": "{}",
         "name": "Year",
         "type": "\"integer\""
        },
        {
         "metadata": "{}",
         "name": "BranchName",
         "type": "\"string\""
        },
        {
         "metadata": "{}",
         "name": "DealerName",
         "type": "\"string\""
        },
        {
         "metadata": "{}",
         "name": "Product_Name",
         "type": "\"string\""
        },
        {
         "metadata": "{}",
         "name": "Date",
         "type": "\"string\""
        },
        {
         "metadata": "{}",
         "name": "Partition_id",
         "type": "\"integer\""
        },
        {
         "metadata": "{}",
         "name": "New_Partition_id",
         "type": "\"integer\""
        }
       ],
       "type": "table"
      }
     },
     "output_type": "display_data"
    }
   ],
   "source": [
    "df=df.withColumn('New_Partition_id',spark_partition_id())\n",
    "df.limit(5).display()"
   ]
  },
  {
   "cell_type": "markdown",
   "metadata": {
    "application/vnd.databricks.v1+cell": {
     "cellMetadata": {
      "byteLimit": 2048000,
      "rowLimit": 10000
     },
     "inputWidgets": {},
     "nuid": "2c736fb9-0885-4cd2-b31d-a3b02d344aa4",
     "showTitle": false,
     "tableResultSettingsMap": {},
     "title": ""
    }
   },
   "source": [
    "### Views\n"
   ]
  },
  {
   "cell_type": "code",
   "execution_count": 0,
   "metadata": {
    "application/vnd.databricks.v1+cell": {
     "cellMetadata": {
      "byteLimit": 2048000,
      "rowLimit": 10000
     },
     "inputWidgets": {},
     "nuid": "1cace92b-93a4-42d7-8a61-dd63dcd37ce4",
     "showTitle": false,
     "tableResultSettingsMap": {},
     "title": ""
    }
   },
   "outputs": [],
   "source": [
    "df.createOrReplaceTempView(\"temp_view\")"
   ]
  },
  {
   "cell_type": "code",
   "execution_count": 0,
   "metadata": {
    "application/vnd.databricks.v1+cell": {
     "cellMetadata": {
      "byteLimit": 2048000,
      "implicitDf": true,
      "rowLimit": 10000
     },
     "inputWidgets": {},
     "nuid": "806456b5-0834-4bdb-a7e3-479aad54f084",
     "showTitle": false,
     "tableResultSettingsMap": {},
     "title": ""
    }
   },
   "outputs": [
    {
     "output_type": "display_data",
     "data": {
      "text/html": [
       "<style scoped>\n",
       "  .table-result-container {\n",
       "    max-height: 300px;\n",
       "    overflow: auto;\n",
       "  }\n",
       "  table, th, td {\n",
       "    border: 1px solid black;\n",
       "    border-collapse: collapse;\n",
       "  }\n",
       "  th, td {\n",
       "    padding: 5px;\n",
       "  }\n",
       "  th {\n",
       "    text-align: left;\n",
       "  }\n",
       "</style><div class='table-result-container'><table class='table-result'><thead style='background-color: white'><tr><th>Branch_ID</th><th>Dealer_ID</th><th>Model_ID</th><th>Revenue</th><th>Units_Sold</th><th>Date_ID</th><th>Month</th><th>Year</th><th>BranchName</th><th>DealerName</th><th>Product_Name</th><th>Date</th><th>Partition_id</th><th>New_Partition_id</th></tr></thead><tbody><tr><td>BR0666</td><td>DLR0179</td><td>Mar-M139</td><td>16170344</td><td>2</td><td>DT01247</td><td>5</td><td>2020</td><td>Asia Motors Motors</td><td>Simca Motors</td><td>Maruti Suzuki</td><td>5/31/2020 0:00</td><td>0</td><td>0</td></tr><tr><td>BR1155</td><td>DLR0036</td><td>Sko-M273</td><td>6991308</td><td>2</td><td>DT01104</td><td>1</td><td>2020</td><td>Marcos Motors</td><td>Chrysler Europe Motors</td><td>Skoda</td><td>1/9/2020 0:00</td><td>0</td><td>0</td></tr><tr><td>BR1475</td><td>DLR0068</td><td>Lin-M28</td><td>14722240</td><td>2</td><td>DT01136</td><td>2</td><td>2020</td><td>Panhard Motors</td><td>GAZ Motors</td><td>Lincoln</td><td>2/10/2020 0:00</td><td>0</td><td>0</td></tr><tr><td>BR1465</td><td>DLR0067</td><td>Lin-M27</td><td>756130</td><td>2</td><td>DT01135</td><td>2</td><td>2020</td><td>Pagani Motors</td><td>FSO Motors</td><td>Lincoln</td><td>2/9/2020 0:00</td><td>0</td><td>0</td></tr><tr><td>BR1365</td><td>DLR0057</td><td>For-M17</td><td>1729269</td><td>1</td><td>DT01125</td><td>1</td><td>2020</td><td>Nash Motors</td><td>Fiat Motors</td><td>Ford</td><td>1/30/2020 0:00</td><td>0</td><td>0</td></tr></tbody></table></div>"
      ]
     },
     "metadata": {
      "application/vnd.databricks.v1+output": {
       "addedWidgets": {},
       "aggData": [],
       "aggError": "",
       "aggOverflow": false,
       "aggSchema": [],
       "aggSeriesLimitReached": false,
       "aggType": "",
       "arguments": {},
       "columnCustomDisplayInfos": {},
       "data": [
        [
         "BR0666",
         "DLR0179",
         "Mar-M139",
         16170344,
         2,
         "DT01247",
         5,
         2020,
         "Asia Motors Motors",
         "Simca Motors",
         "Maruti Suzuki",
         "5/31/2020 0:00",
         0,
         0
        ],
        [
         "BR1155",
         "DLR0036",
         "Sko-M273",
         6991308,
         2,
         "DT01104",
         1,
         2020,
         "Marcos Motors",
         "Chrysler Europe Motors",
         "Skoda",
         "1/9/2020 0:00",
         0,
         0
        ],
        [
         "BR1475",
         "DLR0068",
         "Lin-M28",
         14722240,
         2,
         "DT01136",
         2,
         2020,
         "Panhard Motors",
         "GAZ Motors",
         "Lincoln",
         "2/10/2020 0:00",
         0,
         0
        ],
        [
         "BR1465",
         "DLR0067",
         "Lin-M27",
         756130,
         2,
         "DT01135",
         2,
         2020,
         "Pagani Motors",
         "FSO Motors",
         "Lincoln",
         "2/9/2020 0:00",
         0,
         0
        ],
        [
         "BR1365",
         "DLR0057",
         "For-M17",
         1729269,
         1,
         "DT01125",
         1,
         2020,
         "Nash Motors",
         "Fiat Motors",
         "Ford",
         "1/30/2020 0:00",
         0,
         0
        ]
       ],
       "datasetInfos": [],
       "dbfsResultPath": null,
       "isJsonSchema": true,
       "metadata": {},
       "overflow": false,
       "plotOptions": {
        "customPlotOptions": {},
        "displayType": "table",
        "pivotAggregation": null,
        "pivotColumns": null,
        "xColumns": null,
        "yColumns": null
       },
       "removedWidgets": [],
       "schema": [
        {
         "metadata": "{}",
         "name": "Branch_ID",
         "type": "\"string\""
        },
        {
         "metadata": "{}",
         "name": "Dealer_ID",
         "type": "\"string\""
        },
        {
         "metadata": "{}",
         "name": "Model_ID",
         "type": "\"string\""
        },
        {
         "metadata": "{}",
         "name": "Revenue",
         "type": "\"integer\""
        },
        {
         "metadata": "{}",
         "name": "Units_Sold",
         "type": "\"integer\""
        },
        {
         "metadata": "{}",
         "name": "Date_ID",
         "type": "\"string\""
        },
        {
         "metadata": "{}",
         "name": "Month",
         "type": "\"integer\""
        },
        {
         "metadata": "{}",
         "name": "Year",
         "type": "\"integer\""
        },
        {
         "metadata": "{}",
         "name": "BranchName",
         "type": "\"string\""
        },
        {
         "metadata": "{}",
         "name": "DealerName",
         "type": "\"string\""
        },
        {
         "metadata": "{}",
         "name": "Product_Name",
         "type": "\"string\""
        },
        {
         "metadata": "{}",
         "name": "Date",
         "type": "\"string\""
        },
        {
         "metadata": "{}",
         "name": "Partition_id",
         "type": "\"integer\""
        },
        {
         "metadata": "{}",
         "name": "New_Partition_id",
         "type": "\"integer\""
        }
       ],
       "type": "table"
      }
     },
     "output_type": "display_data"
    }
   ],
   "source": [
    "%sql\n",
    "select * from temp_view\n",
    "limit 5"
   ]
  },
  {
   "cell_type": "code",
   "execution_count": 0,
   "metadata": {
    "application/vnd.databricks.v1+cell": {
     "cellMetadata": {
      "byteLimit": 2048000,
      "rowLimit": 10000
     },
     "inputWidgets": {},
     "nuid": "68a1a928-282b-4f47-a802-8670c9c4839f",
     "showTitle": false,
     "tableResultSettingsMap": {},
     "title": ""
    }
   },
   "outputs": [],
   "source": [
    "df.createOrReplaceGlobalTempView(\"global_temp_view\")\n",
    "#displaying this df in import NoteBook"
   ]
  },
  {
   "cell_type": "code",
   "execution_count": 0,
   "metadata": {
    "application/vnd.databricks.v1+cell": {
     "cellMetadata": {
      "byteLimit": 2048000,
      "rowLimit": 10000
     },
     "inputWidgets": {},
     "nuid": "7d48803f-c770-4dc4-9719-33e4472c7ecf",
     "showTitle": false,
     "tableResultSettingsMap": {},
     "title": ""
    }
   },
   "outputs": [],
   "source": []
  }
 ],
 "metadata": {
  "application/vnd.databricks.v1+notebook": {
   "computePreferences": null,
   "dashboards": [],
   "environmentMetadata": {
    "base_environment": "",
    "environment_version": "1"
   },
   "inputWidgetPreferences": null,
   "language": "python",
   "notebookMetadata": {
    "mostRecentlyExecutedCommandWithImplicitDF": {
     "commandId": 1389164415893528,
     "dataframes": [
      "_sqldf"
     ]
    },
    "pythonIndentUnit": 4
   },
   "notebookName": "Partitions and VIEWS",
   "widgets": {}
  }
 },
 "nbformat": 4,
 "nbformat_minor": 0
}